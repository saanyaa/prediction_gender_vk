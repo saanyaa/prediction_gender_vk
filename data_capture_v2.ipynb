{
 "cells": [
  {
   "cell_type": "code",
   "execution_count": 1,
   "metadata": {},
   "outputs": [],
   "source": [
    "import requests\n",
    "import numpy as np\n",
    "import pandas as pd\n",
    "import yaml"
   ]
  },
  {
   "cell_type": "code",
   "execution_count": 2,
   "metadata": {},
   "outputs": [],
   "source": [
    "f = open('config.yaml')\n",
    "\n",
    "config = yaml.load(f, yaml.SafeLoader)\n",
    "\n",
    "user_token = config['user_token']"
   ]
  },
  {
   "cell_type": "code",
   "execution_count": null,
   "metadata": {},
   "outputs": [],
   "source": [
    "url_search = 'https://api.vk.com/method/users.search?'\n",
    "\n",
    "params = {\n",
    "    'offset': 1000,\n",
    "    'count': 100,\n",
    "    'sex': 1,\n",
    "    'v': 5.131,\n",
    "    'access_token': user_token,\n",
    "    'fields': 'sex, bdate, books, counters, games, interests, music, personal, tv, universities'\n",
    "}\n",
    "\n",
    "r = requests.get(url_search, params = params)\n",
    "\n",
    "woman_dict = r.json()\n",
    "\n",
    "len(woman_dict['response']['items'])"
   ]
  },
  {
   "cell_type": "code",
   "execution_count": null,
   "metadata": {},
   "outputs": [],
   "source": [
    "%%time\n",
    "woman_list = []\n",
    "offset_list = np.arange(1, 10000, 1000)\n",
    "df_test = pd.DataFrame()\n",
    "\n",
    "for offset in offset_list:\n",
    "    \n",
    "    params['offset'] = offset\n",
    "    \n",
    "    r = requests.get(url_search, params = params)\n",
    "    \n",
    "    woman_dict = r.json()\n",
    "    \n",
    "    print(woman_dict.keys(), offset)\n",
    "\n",
    "    for data_dict in woman_dict['response']['items']:\n",
    "    \n",
    "        del_dict(data_dict, 'counters')\n",
    "        del_dict(data_dict, 'personal')\n",
    "        del_dict(data_dict, 'universities')\n",
    "    \n",
    "        df_test = df_test.append(data_dict, ignore_index=True)\n",
    "        \n",
    "df_test.index = df_test['id'].astype(int)"
   ]
  }
 ],
 "metadata": {
  "kernelspec": {
   "display_name": "Python 3",
   "language": "python",
   "name": "python3"
  },
  "language_info": {
   "codemirror_mode": {
    "name": "ipython",
    "version": 3
   },
   "file_extension": ".py",
   "mimetype": "text/x-python",
   "name": "python",
   "nbconvert_exporter": "python",
   "pygments_lexer": "ipython3",
   "version": "3.7.6"
  }
 },
 "nbformat": 4,
 "nbformat_minor": 4
}
