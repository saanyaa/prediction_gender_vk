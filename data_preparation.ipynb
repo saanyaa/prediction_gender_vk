{
 "cells": [
  {
   "cell_type": "markdown",
   "metadata": {},
   "source": [
    "## Подготовка данных "
   ]
  },
  {
   "cell_type": "markdown",
   "metadata": {},
   "source": [
    "**Импорт библиотек:**"
   ]
  },
  {
   "cell_type": "code",
   "execution_count": 1,
   "metadata": {},
   "outputs": [],
   "source": [
    "import pandas as pd\n",
    "import numpy as np"
   ]
  },
  {
   "cell_type": "markdown",
   "metadata": {},
   "source": [
    "**Склеивание небольших `DateFrame` в единый:**"
   ]
  },
  {
   "cell_type": "code",
   "execution_count": 2,
   "metadata": {},
   "outputs": [],
   "source": [
    "data_1 = pd.read_csv('data/data_1.csv')\n",
    "data_2 = pd.read_csv('data/data_2.csv')\n",
    "data_3 = pd.read_csv('data/data_3.csv')\n",
    "data_4 = pd.read_csv('data/data_4.csv')\n",
    "data_5 = pd.read_csv('data/data_5.csv')\n",
    "data_6 = pd.read_csv('data/data_6.csv')\n",
    "data_7 = pd.read_csv('data/data_7.csv')\n",
    "data_8 = pd.read_csv('data/data_8.csv')\n",
    "data_9 = pd.read_csv('data/data_9.csv')\n",
    "data_10 = pd.read_csv('data/data_10.csv')\n",
    "\n",
    "data = pd.concat([data_1, data_2, data_3, data_4, data_5, data_6, data_7, data_8, data_9, data_10])"
   ]
  },
  {
   "cell_type": "code",
   "execution_count": 3,
   "metadata": {},
   "outputs": [],
   "source": [
    "data['id'] = data['id.1']\n",
    "\n",
    "data = data.drop('id.1', axis=1)\n",
    "\n",
    "data = data.drop_duplicates(subset=['id'])\n",
    "\n",
    "data = data.set_index('id')"
   ]
  },
  {
   "cell_type": "markdown",
   "metadata": {},
   "source": [
    "**Удаляем неинтересные признаки и повторяющиеся сторки:**"
   ]
  },
  {
   "cell_type": "code",
   "execution_count": 4,
   "metadata": {},
   "outputs": [],
   "source": [
    "data = data.drop(['first_name',\n",
    "                  'last_name',\n",
    "                  'is_closed',\n",
    "                  'can_access_closed',\n",
    "                  'personal_langs',\n",
    "                  'personal_inspired_by',\n",
    "                  'universities_country',\n",
    "                  'universities_city',\n",
    "                  'universities_chair',\n",
    "                  'universities_chair_name',\n",
    "                  'universities_graduation',\n",
    "                  'universities_education_form',\n",
    "                  'universities_education_status',\n",
    "                  'universities_faculty',\n",
    "                  'universities_faculty_name'], axis=1)"
   ]
  },
  {
   "cell_type": "markdown",
   "metadata": {},
   "source": [
    "**Приводим некоторые столбцы из `float64` в `int32`:**"
   ]
  },
  {
   "cell_type": "code",
   "execution_count": 5,
   "metadata": {},
   "outputs": [],
   "source": [
    "#data['relation'] = data['relation'].fillna(0).astype(int)\n",
    "#data['personal_political'] = data['personal_political'].fillna(0).astype(int)\n",
    "#data['personal_religion_id'] = data['personal_religion_id'].fillna(0).astype(int)\n",
    "#data['personal_people_main'] = data['personal_people_main'].fillna(0).astype(int)\n",
    "#data['personal_life_main'] = data['personal_life_main'].fillna(0).astype(int)\n",
    "#data['personal_smoking'] = data['personal_smoking'].fillna(0).astype(int)\n",
    "#data['personal_alcohol'] = data['personal_alcohol'].fillna(0).astype(int)\n",
    "#data['universities_id'] = data['universities_id'].fillna(0).astype(int)\n",
    "data['sex'] = data['sex'].apply(lambda x: 1 if x == 1 else 0)"
   ]
  },
  {
   "cell_type": "markdown",
   "metadata": {},
   "source": [
    "**Подготовка файлов для описания религий и университета:**"
   ]
  },
  {
   "cell_type": "code",
   "execution_count": 6,
   "metadata": {},
   "outputs": [],
   "source": [
    "religion_df = data[['personal_religion', 'personal_religion_id']].sort_values(by='personal_religion_id', ascending=False)\n",
    "universities_df = data[['universities_name', 'universities_id']].sort_values(by='universities_id', ascending=False)\n",
    "data = data.drop(['personal_religion', 'universities_name'], axis=1)"
   ]
  },
  {
   "cell_type": "code",
   "execution_count": 10,
   "metadata": {},
   "outputs": [],
   "source": [
    "religion_df = religion_df.drop_duplicates(subset=['personal_religion_id'])"
   ]
  },
  {
   "cell_type": "code",
   "execution_count": 11,
   "metadata": {},
   "outputs": [],
   "source": [
    "universities_df = universities_df.drop_duplicates(subset=['universities_id'])"
   ]
  },
  {
   "cell_type": "code",
   "execution_count": 24,
   "metadata": {},
   "outputs": [
    {
     "data": {
      "text/html": [
       "<div>\n",
       "<style scoped>\n",
       "    .dataframe tbody tr th:only-of-type {\n",
       "        vertical-align: middle;\n",
       "    }\n",
       "\n",
       "    .dataframe tbody tr th {\n",
       "        vertical-align: top;\n",
       "    }\n",
       "\n",
       "    .dataframe thead th {\n",
       "        text-align: right;\n",
       "    }\n",
       "</style>\n",
       "<table border=\"1\" class=\"dataframe\">\n",
       "  <thead>\n",
       "    <tr style=\"text-align: right;\">\n",
       "      <th></th>\n",
       "      <th>universities_name</th>\n",
       "      <th>universities_id</th>\n",
       "    </tr>\n",
       "    <tr>\n",
       "      <th>id</th>\n",
       "      <th></th>\n",
       "      <th></th>\n",
       "    </tr>\n",
       "  </thead>\n",
       "  <tbody>\n",
       "    <tr>\n",
       "      <th>5174023</th>\n",
       "      <td>NaN</td>\n",
       "      <td>3.0</td>\n",
       "    </tr>\n",
       "    <tr>\n",
       "      <th>55743185</th>\n",
       "      <td>МГУ</td>\n",
       "      <td>2.0</td>\n",
       "    </tr>\n",
       "    <tr>\n",
       "      <th>29133322</th>\n",
       "      <td>СПбГУ</td>\n",
       "      <td>1.0</td>\n",
       "    </tr>\n",
       "    <tr>\n",
       "      <th>30090722</th>\n",
       "      <td>NaN</td>\n",
       "      <td>0.0</td>\n",
       "    </tr>\n",
       "    <tr>\n",
       "      <th>8882147</th>\n",
       "      <td>NaN</td>\n",
       "      <td>NaN</td>\n",
       "    </tr>\n",
       "  </tbody>\n",
       "</table>\n",
       "</div>"
      ],
      "text/plain": [
       "         universities_name  universities_id\n",
       "id                                         \n",
       "5174023                NaN              3.0\n",
       "55743185               МГУ              2.0\n",
       "29133322             СПбГУ              1.0\n",
       "30090722               NaN              0.0\n",
       "8882147                NaN              NaN"
      ]
     },
     "execution_count": 24,
     "metadata": {},
     "output_type": "execute_result"
    }
   ],
   "source": [
    "universities_df.tail()"
   ]
  },
  {
   "cell_type": "markdown",
   "metadata": {},
   "source": [
    "**Уберем колличественную разницу в целевом признаке `sex`:**"
   ]
  },
  {
   "cell_type": "code",
   "execution_count": 21,
   "metadata": {},
   "outputs": [
    {
     "data": {
      "text/plain": [
       "0"
      ]
     },
     "execution_count": 21,
     "metadata": {},
     "output_type": "execute_result"
    }
   ],
   "source": [
    "len(data[data['sex'] == 0]) - len(data[data['sex'] == 1])"
   ]
  },
  {
   "cell_type": "code",
   "execution_count": 20,
   "metadata": {},
   "outputs": [],
   "source": [
    "data = data.drop(data[data['sex'] == 0].index[:22907], axis=0)"
   ]
  },
  {
   "cell_type": "markdown",
   "metadata": {},
   "source": [
    "**Конвертирование `DateFrame` в `.csv` для дальнейшего анализа:**"
   ]
  },
  {
   "cell_type": "code",
   "execution_count": 22,
   "metadata": {},
   "outputs": [],
   "source": [
    "data.to_csv('data/data.csv')"
   ]
  }
 ],
 "metadata": {
  "kernelspec": {
   "display_name": "Python 3",
   "language": "python",
   "name": "python3"
  },
  "language_info": {
   "codemirror_mode": {
    "name": "ipython",
    "version": 3
   },
   "file_extension": ".py",
   "mimetype": "text/x-python",
   "name": "python",
   "nbconvert_exporter": "python",
   "pygments_lexer": "ipython3",
   "version": "3.7.6"
  }
 },
 "nbformat": 4,
 "nbformat_minor": 4
}
