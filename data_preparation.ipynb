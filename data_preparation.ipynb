{
 "cells": [
  {
   "cell_type": "code",
   "execution_count": 2,
   "metadata": {},
   "outputs": [
    {
     "name": "stdout",
     "output_type": "stream",
     "text": [
      "<class 'pandas.core.frame.DataFrame'>\n",
      "RangeIndex: 1933 entries, 0 to 1932\n",
      "Data columns (total 48 columns):\n",
      " #   Column                         Non-Null Count  Dtype  \n",
      "---  ------                         --------------  -----  \n",
      " 0   id                             1933 non-null   int64  \n",
      " 1   albums_counters                1933 non-null   float64\n",
      " 2   audios_counters                1933 non-null   float64\n",
      " 3   books                          173 non-null    object \n",
      " 4   can_access_closed              1933 non-null   float64\n",
      " 5   chair_name_universities        252 non-null    object \n",
      " 6   chair_universities             252 non-null    float64\n",
      " 7   city_universities              418 non-null    float64\n",
      " 8   clips_followers_counters       1933 non-null   float64\n",
      " 9   country_universities           418 non-null    float64\n",
      " 10  education_form_universities    342 non-null    object \n",
      " 11  faculty_name_universities      315 non-null    object \n",
      " 12  faculty_universities           354 non-null    float64\n",
      " 13  first_name                     1933 non-null   object \n",
      " 14  followers_counters             1933 non-null   float64\n",
      " 15  games                          128 non-null    object \n",
      " 16  gifts_counters                 1186 non-null   float64\n",
      " 17  graduation_universities        303 non-null    float64\n",
      " 18  groups_counters                965 non-null    float64\n",
      " 19  id.1                           1933 non-null   float64\n",
      " 20  id_universities                418 non-null    float64\n",
      " 21  interests                      202 non-null    object \n",
      " 22  is_closed                      1933 non-null   float64\n",
      " 23  langs_personal                 180 non-null    object \n",
      " 24  last_name                      1933 non-null   object \n",
      " 25  music                          199 non-null    object \n",
      " 26  name_universities              418 non-null    object \n",
      " 27  pages_counters                 1933 non-null   float64\n",
      " 28  photos_counters                1933 non-null   float64\n",
      " 29  sex                            1933 non-null   float64\n",
      " 30  subscriptions_counters         1933 non-null   float64\n",
      " 31  tv                             135 non-null    object \n",
      " 32  videos_counters                1933 non-null   float64\n",
      " 33  personal                       435 non-null    object \n",
      " 34  universities                   464 non-null    object \n",
      " 35  user_photos_counters           819 non-null    float64\n",
      " 36  bdate                          1257 non-null   object \n",
      " 37  political_personal             248 non-null    float64\n",
      " 38  alcohol_personal               149 non-null    float64\n",
      " 39  inspired_by_personal           30 non-null     object \n",
      " 40  life_main_personal             149 non-null    float64\n",
      " 41  people_main_personal           149 non-null    float64\n",
      " 42  smoking_personal               149 non-null    float64\n",
      " 43  education_status_universities  277 non-null    object \n",
      " 44  articles_counters              6 non-null      float64\n",
      " 45  religion_id_personal           101 non-null    float64\n",
      " 46  religion_personal              149 non-null    object \n",
      " 47  clips_counters                 1 non-null      float64\n",
      "dtypes: float64(29), int64(1), object(18)\n",
      "memory usage: 725.0+ KB\n"
     ]
    }
   ],
   "source": [
    "import pandas as pd\n",
    "\n",
    "data = pd.read_csv('data_1')\n",
    "\n",
    "data.info()"
   ]
  }
 ],
 "metadata": {
  "kernelspec": {
   "display_name": "Python 3",
   "language": "python",
   "name": "python3"
  },
  "language_info": {
   "codemirror_mode": {
    "name": "ipython",
    "version": 3
   },
   "file_extension": ".py",
   "mimetype": "text/x-python",
   "name": "python",
   "nbconvert_exporter": "python",
   "pygments_lexer": "ipython3",
   "version": "3.7.6"
  }
 },
 "nbformat": 4,
 "nbformat_minor": 4
}
