{
 "cells": [
  {
   "cell_type": "markdown",
   "metadata": {},
   "source": [
    "## Анализ данных "
   ]
  },
  {
   "cell_type": "markdown",
   "metadata": {},
   "source": [
    "**Импорт библиотек:**"
   ]
  },
  {
   "cell_type": "code",
   "execution_count": 2,
   "metadata": {},
   "outputs": [],
   "source": [
    "import pandas as pd\n",
    "import numpy as np\n",
    "import seaborn as sns\n",
    "import yaml\n",
    "import matplotlib.pyplot as plt\n",
    "from sklearn.metrics import accuracy_score\n",
    "from sklearn.model_selection import train_test_split, cross_val_score\n",
    "from sklearn.linear_model import LogisticRegression, Lasso, LassoCV"
   ]
  },
  {
   "cell_type": "code",
   "execution_count": 3,
   "metadata": {},
   "outputs": [],
   "source": [
    "data = pd.read_csv('data/data.csv', index_col='id')"
   ]
  },
  {
   "cell_type": "code",
   "execution_count": 4,
   "metadata": {},
   "outputs": [
    {
     "data": {
      "text/html": [
       "<div>\n",
       "<style scoped>\n",
       "    .dataframe tbody tr th:only-of-type {\n",
       "        vertical-align: middle;\n",
       "    }\n",
       "\n",
       "    .dataframe tbody tr th {\n",
       "        vertical-align: top;\n",
       "    }\n",
       "\n",
       "    .dataframe thead th {\n",
       "        text-align: right;\n",
       "    }\n",
       "</style>\n",
       "<table border=\"1\" class=\"dataframe\">\n",
       "  <thead>\n",
       "    <tr style=\"text-align: right;\">\n",
       "      <th></th>\n",
       "      <th>relation</th>\n",
       "      <th>personal_political</th>\n",
       "      <th>personal_religion_id</th>\n",
       "      <th>personal_people_main</th>\n",
       "      <th>personal_life_main</th>\n",
       "      <th>personal_smoking</th>\n",
       "      <th>personal_alcohol</th>\n",
       "      <th>universities_id</th>\n",
       "      <th>sex</th>\n",
       "    </tr>\n",
       "    <tr>\n",
       "      <th>id</th>\n",
       "      <th></th>\n",
       "      <th></th>\n",
       "      <th></th>\n",
       "      <th></th>\n",
       "      <th></th>\n",
       "      <th></th>\n",
       "      <th></th>\n",
       "      <th></th>\n",
       "      <th></th>\n",
       "    </tr>\n",
       "  </thead>\n",
       "  <tbody>\n",
       "    <tr>\n",
       "      <th>42460480</th>\n",
       "      <td>4.0</td>\n",
       "      <td>NaN</td>\n",
       "      <td>NaN</td>\n",
       "      <td>NaN</td>\n",
       "      <td>NaN</td>\n",
       "      <td>NaN</td>\n",
       "      <td>NaN</td>\n",
       "      <td>4629.0</td>\n",
       "      <td>1</td>\n",
       "    </tr>\n",
       "    <tr>\n",
       "      <th>8882147</th>\n",
       "      <td>NaN</td>\n",
       "      <td>NaN</td>\n",
       "      <td>NaN</td>\n",
       "      <td>NaN</td>\n",
       "      <td>NaN</td>\n",
       "      <td>NaN</td>\n",
       "      <td>NaN</td>\n",
       "      <td>NaN</td>\n",
       "      <td>1</td>\n",
       "    </tr>\n",
       "    <tr>\n",
       "      <th>55348747</th>\n",
       "      <td>1.0</td>\n",
       "      <td>3.0</td>\n",
       "      <td>NaN</td>\n",
       "      <td>NaN</td>\n",
       "      <td>NaN</td>\n",
       "      <td>NaN</td>\n",
       "      <td>NaN</td>\n",
       "      <td>35837.0</td>\n",
       "      <td>1</td>\n",
       "    </tr>\n",
       "    <tr>\n",
       "      <th>26921686</th>\n",
       "      <td>2.0</td>\n",
       "      <td>NaN</td>\n",
       "      <td>102.0</td>\n",
       "      <td>NaN</td>\n",
       "      <td>NaN</td>\n",
       "      <td>NaN</td>\n",
       "      <td>NaN</td>\n",
       "      <td>364.0</td>\n",
       "      <td>1</td>\n",
       "    </tr>\n",
       "    <tr>\n",
       "      <th>38970318</th>\n",
       "      <td>1.0</td>\n",
       "      <td>3.0</td>\n",
       "      <td>NaN</td>\n",
       "      <td>NaN</td>\n",
       "      <td>NaN</td>\n",
       "      <td>NaN</td>\n",
       "      <td>NaN</td>\n",
       "      <td>NaN</td>\n",
       "      <td>1</td>\n",
       "    </tr>\n",
       "  </tbody>\n",
       "</table>\n",
       "</div>"
      ],
      "text/plain": [
       "          relation  personal_political  personal_religion_id  \\\n",
       "id                                                             \n",
       "42460480       4.0                 NaN                   NaN   \n",
       "8882147        NaN                 NaN                   NaN   \n",
       "55348747       1.0                 3.0                   NaN   \n",
       "26921686       2.0                 NaN                 102.0   \n",
       "38970318       1.0                 3.0                   NaN   \n",
       "\n",
       "          personal_people_main  personal_life_main  personal_smoking  \\\n",
       "id                                                                     \n",
       "42460480                   NaN                 NaN               NaN   \n",
       "8882147                    NaN                 NaN               NaN   \n",
       "55348747                   NaN                 NaN               NaN   \n",
       "26921686                   NaN                 NaN               NaN   \n",
       "38970318                   NaN                 NaN               NaN   \n",
       "\n",
       "          personal_alcohol  universities_id  sex  \n",
       "id                                                \n",
       "42460480               NaN           4629.0    1  \n",
       "8882147                NaN              NaN    1  \n",
       "55348747               NaN          35837.0    1  \n",
       "26921686               NaN            364.0    1  \n",
       "38970318               NaN              NaN    1  "
      ]
     },
     "execution_count": 4,
     "metadata": {},
     "output_type": "execute_result"
    }
   ],
   "source": [
    "data.head()"
   ]
  },
  {
   "cell_type": "markdown",
   "metadata": {},
   "source": [
    "**Взглянем на описание признаков:**"
   ]
  },
  {
   "cell_type": "code",
   "execution_count": 10,
   "metadata": {},
   "outputs": [
    {
     "data": {
      "text/plain": [
       "{'id': 'идентификатор пользователя, integer',\n",
       " 'relation': {1: 'не женат/не замужем',\n",
       "  2: 'есть друг/есть подруга',\n",
       "  3: 'помолвлен/помолвлена',\n",
       "  4: 'женат/замужем',\n",
       "  5: 'всё сложно',\n",
       "  6: 'в активном поиске',\n",
       "  7: 'влюблён/влюблена',\n",
       "  8: 'в гражданском браке',\n",
       "  0: 'не указано'},\n",
       " 'personal_political': {1: 'коммунистические',\n",
       "  2: 'социалистические',\n",
       "  3: 'умеренные',\n",
       "  4: 'либеральные',\n",
       "  5: 'консервативные',\n",
       "  6: 'монархические',\n",
       "  7: 'ультраконсервативные',\n",
       "  8: 'индифферентные',\n",
       "  9: 'либертарианские',\n",
       "  0: 'другое'},\n",
       " 'personal_religion_id': 'id мировоззрение, integer',\n",
       " 'personal_inspired_by': 'источники вдохновения, string',\n",
       " 'personal_people_main': {1: 'ум и креативность',\n",
       "  2: 'доброта и честность',\n",
       "  3: 'красота и здоровье',\n",
       "  4: 'власть и богатство',\n",
       "  5: 'смелость и упорство',\n",
       "  6: 'юмор и жизнелюбие',\n",
       "  0: 'другое'},\n",
       " 'personal_life_main': {1: 'семья и дети',\n",
       "  2: 'карьера и деньги',\n",
       "  3: 'развлечения и отдых',\n",
       "  4: 'наука и исследования',\n",
       "  5: 'совершенствование мира',\n",
       "  6: 'саморазвитие',\n",
       "  7: 'красота и искусство',\n",
       "  8: 'слава и влияние',\n",
       "  0: 'другое'},\n",
       " 'personal_smoking': {1: 'резко негативное',\n",
       "  2: 'негативное',\n",
       "  3: 'компромиссное',\n",
       "  4: 'нейтральное',\n",
       "  5: 'положительное',\n",
       "  0: 'другое'},\n",
       " 'personal_alcohol': {1: 'резко негативное',\n",
       "  2: 'негативное',\n",
       "  3: 'компромиссное',\n",
       "  4: 'нейтральное',\n",
       "  5: 'положительное',\n",
       "  0: 'другое'},\n",
       " 'universities_id': 'идентификатор университета, integer',\n",
       " 'sex': {0: 'мужской', 1: 'женский'}}"
      ]
     },
     "execution_count": 10,
     "metadata": {},
     "output_type": "execute_result"
    }
   ],
   "source": [
    "descr = open('description/description_of_features.yaml', mode = 'r', encoding = 'utf-8')\n",
    "\n",
    "description = yaml.load(descr, yaml.SafeLoader)\n",
    "\n",
    "description"
   ]
  },
  {
   "cell_type": "markdown",
   "metadata": {},
   "source": [
    "**Расшифровка `universities_id` и `personal_religion_id`:**"
   ]
  },
  {
   "cell_type": "code",
   "execution_count": 22,
   "metadata": {},
   "outputs": [],
   "source": [
    "universities_df = pd.read_csv('description/descr_universities.csv', index_col='universities_id')\n",
    "religion_df = pd.read_csv('description/descr_religion.csv', index_col='personal_religion_id')"
   ]
  },
  {
   "cell_type": "code",
   "execution_count": 23,
   "metadata": {},
   "outputs": [
    {
     "data": {
      "text/html": [
       "<div>\n",
       "<style scoped>\n",
       "    .dataframe tbody tr th:only-of-type {\n",
       "        vertical-align: middle;\n",
       "    }\n",
       "\n",
       "    .dataframe tbody tr th {\n",
       "        vertical-align: top;\n",
       "    }\n",
       "\n",
       "    .dataframe thead th {\n",
       "        text-align: right;\n",
       "    }\n",
       "</style>\n",
       "<table border=\"1\" class=\"dataframe\">\n",
       "  <thead>\n",
       "    <tr style=\"text-align: right;\">\n",
       "      <th></th>\n",
       "      <th>universities_name</th>\n",
       "    </tr>\n",
       "    <tr>\n",
       "      <th>universities_id</th>\n",
       "      <th></th>\n",
       "    </tr>\n",
       "  </thead>\n",
       "  <tbody>\n",
       "    <tr>\n",
       "      <th>1191703.0</th>\n",
       "      <td>ШИ (ф) ЮРГТУ (НПИ)</td>\n",
       "    </tr>\n",
       "    <tr>\n",
       "      <th>1191452.0</th>\n",
       "      <td>ВлГУ им. А.Г. и Н.Г. Столетовых (ВлГУ и ВГГУ)</td>\n",
       "    </tr>\n",
       "    <tr>\n",
       "      <th>1191289.0</th>\n",
       "      <td>ККИ РУК</td>\n",
       "    </tr>\n",
       "    <tr>\n",
       "      <th>1191252.0</th>\n",
       "      <td>УзГИФК</td>\n",
       "    </tr>\n",
       "    <tr>\n",
       "      <th>1191156.0</th>\n",
       "      <td>НАПКС (бывш. КИПКС, СФ ДИСИ)</td>\n",
       "    </tr>\n",
       "  </tbody>\n",
       "</table>\n",
       "</div>"
      ],
      "text/plain": [
       "                                             universities_name\n",
       "universities_id                                               \n",
       "1191703.0                                   ШИ (ф) ЮРГТУ (НПИ)\n",
       "1191452.0        ВлГУ им. А.Г. и Н.Г. Столетовых (ВлГУ и ВГГУ)\n",
       "1191289.0                                              ККИ РУК\n",
       "1191252.0                                               УзГИФК\n",
       "1191156.0                         НАПКС (бывш. КИПКС, СФ ДИСИ)"
      ]
     },
     "execution_count": 23,
     "metadata": {},
     "output_type": "execute_result"
    }
   ],
   "source": [
    "universities_df.head()"
   ]
  },
  {
   "cell_type": "code",
   "execution_count": 24,
   "metadata": {},
   "outputs": [
    {
     "data": {
      "text/html": [
       "<div>\n",
       "<style scoped>\n",
       "    .dataframe tbody tr th:only-of-type {\n",
       "        vertical-align: middle;\n",
       "    }\n",
       "\n",
       "    .dataframe tbody tr th {\n",
       "        vertical-align: top;\n",
       "    }\n",
       "\n",
       "    .dataframe thead th {\n",
       "        text-align: right;\n",
       "    }\n",
       "</style>\n",
       "<table border=\"1\" class=\"dataframe\">\n",
       "  <thead>\n",
       "    <tr style=\"text-align: right;\">\n",
       "      <th></th>\n",
       "      <th>personal_religion</th>\n",
       "    </tr>\n",
       "    <tr>\n",
       "      <th>personal_religion_id</th>\n",
       "      <th></th>\n",
       "    </tr>\n",
       "  </thead>\n",
       "  <tbody>\n",
       "    <tr>\n",
       "      <th>201.0</th>\n",
       "      <td>Пастафарианство</td>\n",
       "    </tr>\n",
       "    <tr>\n",
       "      <th>200.0</th>\n",
       "      <td>Светский гуманизм</td>\n",
       "    </tr>\n",
       "    <tr>\n",
       "      <th>167.0</th>\n",
       "      <td>Иудаизм</td>\n",
       "    </tr>\n",
       "    <tr>\n",
       "      <th>139.0</th>\n",
       "      <td>Конфуцианство</td>\n",
       "    </tr>\n",
       "    <tr>\n",
       "      <th>129.0</th>\n",
       "      <td>Буддизм</td>\n",
       "    </tr>\n",
       "  </tbody>\n",
       "</table>\n",
       "</div>"
      ],
      "text/plain": [
       "                      personal_religion\n",
       "personal_religion_id                   \n",
       "201.0                   Пастафарианство\n",
       "200.0                 Светский гуманизм\n",
       "167.0                           Иудаизм\n",
       "139.0                     Конфуцианство\n",
       "129.0                           Буддизм"
      ]
     },
     "execution_count": 24,
     "metadata": {},
     "output_type": "execute_result"
    }
   ],
   "source": [
    "religion_df.head()"
   ]
  },
  {
   "cell_type": "markdown",
   "metadata": {},
   "source": [
    "**Категориальный признак `universities_id` встречается редко, поэтому было принято решение удалить его:**"
   ]
  },
  {
   "cell_type": "code",
   "execution_count": 92,
   "metadata": {},
   "outputs": [
    {
     "data": {
      "text/plain": [
       "universities_id\n",
       "2.0         1692\n",
       "1.0          840\n",
       "477.0        304\n",
       "56.0         275\n",
       "1096.0       274\n",
       "            ... \n",
       "225584.0       1\n",
       "226203.0       1\n",
       "226328.0       1\n",
       "226572.0       1\n",
       "98293.0        1\n",
       "Name: sex, Length: 7523, dtype: int64"
      ]
     },
     "execution_count": 92,
     "metadata": {},
     "output_type": "execute_result"
    }
   ],
   "source": [
    "data.groupby('universities_id')['sex'].count().sort_values(ascending = False)"
   ]
  },
  {
   "cell_type": "code",
   "execution_count": 93,
   "metadata": {},
   "outputs": [],
   "source": [
    "data = data.drop('universities_id', axis=1)"
   ]
  },
  {
   "cell_type": "markdown",
   "metadata": {},
   "source": [
    "**Удаляем выбросы:**"
   ]
  },
  {
   "cell_type": "code",
   "execution_count": 94,
   "metadata": {},
   "outputs": [],
   "source": [
    "data = data.drop(data[data['relation'] < 0].index)\n",
    "data = data.drop(data[data['relation'] > 8].index)\n",
    "data = data.drop(data[data['personal_political'] > 9].index)\n",
    "data = data.drop(data[data['personal_religion_id'] == 1].index)"
   ]
  },
  {
   "cell_type": "markdown",
   "metadata": {},
   "source": [
    "**Зависимость признаков от пола:**"
   ]
  },
  {
   "cell_type": "code",
   "execution_count": 95,
   "metadata": {},
   "outputs": [
    {
     "data": {
      "image/png": "[encoded data removed]",
      "text/plain": [
       "<Figure size 864x576 with 1 Axes>"
      ]
     },
     "metadata": {
      "needs_background": "light"
     },
     "output_type": "display_data"
    }
   ],
   "source": [
    "plt.figure(figsize=(12, 8))\n",
    "sns.countplot(x='relation', hue='sex', data=data);\n",
    "plt.title('Взаимосвязь семейного положения от пола');"
   ]
  },
  {
   "cell_type": "code",
   "execution_count": 96,
   "metadata": {},
   "outputs": [
    {
     "data": {
      "image/png": "[encoded data removed]",
      "text/plain": [
       "<Figure size 864x576 with 1 Axes>"
      ]
     },
     "metadata": {
      "needs_background": "light"
     },
     "output_type": "display_data"
    }
   ],
   "source": [
    "plt.figure(figsize=(12, 8))\n",
    "sns.countplot(x='personal_political', hue='sex', data=data);\n",
    "plt.title('Взаимосвязь политических взглядов от пола');"
   ]
  },
  {
   "cell_type": "code",
   "execution_count": 97,
   "metadata": {},
   "outputs": [
    {
     "data": {
      "image/png": "[encoded data removed]",
      "text/plain": [
       "<Figure size 864x576 with 1 Axes>"
      ]
     },
     "metadata": {
      "needs_background": "light"
     },
     "output_type": "display_data"
    }
   ],
   "source": [
    "plt.figure(figsize=(12, 8))\n",
    "sns.countplot(x='personal_religion_id', hue='sex', data=data);\n",
    "plt.title('Взаимосвязь религии от пола');"
   ]
  },
  {
   "cell_type": "code",
   "execution_count": 101,
   "metadata": {},
   "outputs": [
    {
     "data": {
      "image/png": "[encoded data removed]",
      "text/plain": [
       "<Figure size 864x576 with 1 Axes>"
      ]
     },
     "metadata": {
      "needs_background": "light"
     },
     "output_type": "display_data"
    }
   ],
   "source": [
    "plt.figure(figsize=(12, 8))\n",
    "sns.countplot(x='personal_people_main', hue='sex', data=data);\n",
    "plt.title('Взаимосвязь главное в людях от пола');"
   ]
  },
  {
   "cell_type": "code",
   "execution_count": 102,
   "metadata": {},
   "outputs": [
    {
     "data": {
      "image/png": "[encoded data removed]",
      "text/plain": [
       "<Figure size 864x576 with 1 Axes>"
      ]
     },
     "metadata": {
      "needs_background": "light"
     },
     "output_type": "display_data"
    }
   ],
   "source": [
    "plt.figure(figsize=(12, 8))\n",
    "sns.countplot(x='personal_life_main', hue='sex', data=data);\n",
    "plt.title('Взаимосвязь главное в жизни от пола');"
   ]
  },
  {
   "cell_type": "code",
   "execution_count": 103,
   "metadata": {},
   "outputs": [
    {
     "data": {
      "image/png": "[encoded data removed]",
      "text/plain": [
       "<Figure size 864x576 with 1 Axes>"
      ]
     },
     "metadata": {
      "needs_background": "light"
     },
     "output_type": "display_data"
    }
   ],
   "source": [
    "plt.figure(figsize=(12, 8))\n",
    "sns.countplot(x='personal_smoking', hue='sex', data=data);\n",
    "plt.title('Взаимосвязь отношения к курению от пола');"
   ]
  },
  {
   "cell_type": "code",
   "execution_count": 104,
   "metadata": {},
   "outputs": [
    {
     "data": {
      "image/png": "[encoded data removed]",
      "text/plain": [
       "<Figure size 864x576 with 1 Axes>"
      ]
     },
     "metadata": {
      "needs_background": "light"
     },
     "output_type": "display_data"
    }
   ],
   "source": [
    "plt.figure(figsize = (12, 8))\n",
    "sns.countplot(x='personal_alcohol', hue='sex', data=data);\n",
    "plt.title('Взаимосвязь отношения к алкоголю от пола');"
   ]
  },
  {
   "cell_type": "markdown",
   "metadata": {},
   "source": [
    "**Унитарное кодирование признаков - `One Hot Encoding`:**"
   ]
  },
  {
   "cell_type": "code",
   "execution_count": 15,
   "metadata": {},
   "outputs": [
    {
     "data": {
      "text/html": [
       "<div>\n",
       "<style scoped>\n",
       "    .dataframe tbody tr th:only-of-type {\n",
       "        vertical-align: middle;\n",
       "    }\n",
       "\n",
       "    .dataframe tbody tr th {\n",
       "        vertical-align: top;\n",
       "    }\n",
       "\n",
       "    .dataframe thead th {\n",
       "        text-align: right;\n",
       "    }\n",
       "</style>\n",
       "<table border=\"1\" class=\"dataframe\">\n",
       "  <thead>\n",
       "    <tr style=\"text-align: right;\">\n",
       "      <th></th>\n",
       "      <th>relation</th>\n",
       "      <th>personal_political</th>\n",
       "      <th>personal_religion_id</th>\n",
       "      <th>personal_people_main</th>\n",
       "      <th>personal_life_main</th>\n",
       "      <th>personal_smoking</th>\n",
       "      <th>personal_alcohol</th>\n",
       "      <th>sex</th>\n",
       "    </tr>\n",
       "    <tr>\n",
       "      <th>id</th>\n",
       "      <th></th>\n",
       "      <th></th>\n",
       "      <th></th>\n",
       "      <th></th>\n",
       "      <th></th>\n",
       "      <th></th>\n",
       "      <th></th>\n",
       "      <th></th>\n",
       "    </tr>\n",
       "  </thead>\n",
       "  <tbody>\n",
       "    <tr>\n",
       "      <th>42460480</th>\n",
       "      <td>4.0</td>\n",
       "      <td>NaN</td>\n",
       "      <td>NaN</td>\n",
       "      <td>NaN</td>\n",
       "      <td>NaN</td>\n",
       "      <td>NaN</td>\n",
       "      <td>NaN</td>\n",
       "      <td>1</td>\n",
       "    </tr>\n",
       "    <tr>\n",
       "      <th>8882147</th>\n",
       "      <td>NaN</td>\n",
       "      <td>NaN</td>\n",
       "      <td>NaN</td>\n",
       "      <td>NaN</td>\n",
       "      <td>NaN</td>\n",
       "      <td>NaN</td>\n",
       "      <td>NaN</td>\n",
       "      <td>1</td>\n",
       "    </tr>\n",
       "    <tr>\n",
       "      <th>55348747</th>\n",
       "      <td>1.0</td>\n",
       "      <td>3.0</td>\n",
       "      <td>NaN</td>\n",
       "      <td>NaN</td>\n",
       "      <td>NaN</td>\n",
       "      <td>NaN</td>\n",
       "      <td>NaN</td>\n",
       "      <td>1</td>\n",
       "    </tr>\n",
       "    <tr>\n",
       "      <th>26921686</th>\n",
       "      <td>2.0</td>\n",
       "      <td>NaN</td>\n",
       "      <td>102.0</td>\n",
       "      <td>NaN</td>\n",
       "      <td>NaN</td>\n",
       "      <td>NaN</td>\n",
       "      <td>NaN</td>\n",
       "      <td>1</td>\n",
       "    </tr>\n",
       "    <tr>\n",
       "      <th>38970318</th>\n",
       "      <td>1.0</td>\n",
       "      <td>3.0</td>\n",
       "      <td>NaN</td>\n",
       "      <td>NaN</td>\n",
       "      <td>NaN</td>\n",
       "      <td>NaN</td>\n",
       "      <td>NaN</td>\n",
       "      <td>1</td>\n",
       "    </tr>\n",
       "  </tbody>\n",
       "</table>\n",
       "</div>"
      ],
      "text/plain": [
       "          relation  personal_political  personal_religion_id  \\\n",
       "id                                                             \n",
       "42460480       4.0                 NaN                   NaN   \n",
       "8882147        NaN                 NaN                   NaN   \n",
       "55348747       1.0                 3.0                   NaN   \n",
       "26921686       2.0                 NaN                 102.0   \n",
       "38970318       1.0                 3.0                   NaN   \n",
       "\n",
       "          personal_people_main  personal_life_main  personal_smoking  \\\n",
       "id                                                                     \n",
       "42460480                   NaN                 NaN               NaN   \n",
       "8882147                    NaN                 NaN               NaN   \n",
       "55348747                   NaN                 NaN               NaN   \n",
       "26921686                   NaN                 NaN               NaN   \n",
       "38970318                   NaN                 NaN               NaN   \n",
       "\n",
       "          personal_alcohol  sex  \n",
       "id                               \n",
       "42460480               NaN    1  \n",
       "8882147                NaN    1  \n",
       "55348747               NaN    1  \n",
       "26921686               NaN    1  \n",
       "38970318               NaN    1  "
      ]
     },
     "execution_count": 15,
     "metadata": {},
     "output_type": "execute_result"
    }
   ],
   "source": [
    "data.head()"
   ]
  },
  {
   "cell_type": "code",
   "execution_count": 16,
   "metadata": {},
   "outputs": [],
   "source": [
    "data = pd.get_dummies(data, columns=['relation',\n",
    "                      'personal_political',\n",
    "                      'personal_religion_id', \n",
    "                      'personal_people_main', \n",
    "                      'personal_life_main',\n",
    "                      'personal_smoking', \n",
    "                      'personal_alcohol'])"
   ]
  },
  {
   "cell_type": "code",
   "execution_count": 17,
   "metadata": {},
   "outputs": [
    {
     "name": "stdout",
     "output_type": "stream",
     "text": [
      "<class 'pandas.core.frame.DataFrame'>\n",
      "Int64Index: 220112 entries, 42460480 to 52653967\n",
      "Data columns (total 56 columns):\n",
      " #   Column                      Non-Null Count   Dtype\n",
      "---  ------                      --------------   -----\n",
      " 0   sex                         220112 non-null  int64\n",
      " 1   relation_0.0                220112 non-null  uint8\n",
      " 2   relation_1.0                220112 non-null  uint8\n",
      " 3   relation_2.0                220112 non-null  uint8\n",
      " 4   relation_3.0                220112 non-null  uint8\n",
      " 5   relation_4.0                220112 non-null  uint8\n",
      " 6   relation_5.0                220112 non-null  uint8\n",
      " 7   relation_6.0                220112 non-null  uint8\n",
      " 8   relation_7.0                220112 non-null  uint8\n",
      " 9   relation_8.0                220112 non-null  uint8\n",
      " 10  personal_political_1.0      220112 non-null  uint8\n",
      " 11  personal_political_2.0      220112 non-null  uint8\n",
      " 12  personal_political_3.0      220112 non-null  uint8\n",
      " 13  personal_political_4.0      220112 non-null  uint8\n",
      " 14  personal_political_5.0      220112 non-null  uint8\n",
      " 15  personal_political_6.0      220112 non-null  uint8\n",
      " 16  personal_political_7.0      220112 non-null  uint8\n",
      " 17  personal_political_8.0      220112 non-null  uint8\n",
      " 18  personal_political_9.0      220112 non-null  uint8\n",
      " 19  personal_religion_id_101.0  220112 non-null  uint8\n",
      " 20  personal_religion_id_102.0  220112 non-null  uint8\n",
      " 21  personal_religion_id_107.0  220112 non-null  uint8\n",
      " 22  personal_religion_id_124.0  220112 non-null  uint8\n",
      " 23  personal_religion_id_129.0  220112 non-null  uint8\n",
      " 24  personal_religion_id_139.0  220112 non-null  uint8\n",
      " 25  personal_religion_id_167.0  220112 non-null  uint8\n",
      " 26  personal_religion_id_200.0  220112 non-null  uint8\n",
      " 27  personal_religion_id_201.0  220112 non-null  uint8\n",
      " 28  personal_people_main_0.0    220112 non-null  uint8\n",
      " 29  personal_people_main_1.0    220112 non-null  uint8\n",
      " 30  personal_people_main_2.0    220112 non-null  uint8\n",
      " 31  personal_people_main_3.0    220112 non-null  uint8\n",
      " 32  personal_people_main_4.0    220112 non-null  uint8\n",
      " 33  personal_people_main_5.0    220112 non-null  uint8\n",
      " 34  personal_people_main_6.0    220112 non-null  uint8\n",
      " 35  personal_life_main_0.0      220112 non-null  uint8\n",
      " 36  personal_life_main_1.0      220112 non-null  uint8\n",
      " 37  personal_life_main_2.0      220112 non-null  uint8\n",
      " 38  personal_life_main_3.0      220112 non-null  uint8\n",
      " 39  personal_life_main_4.0      220112 non-null  uint8\n",
      " 40  personal_life_main_5.0      220112 non-null  uint8\n",
      " 41  personal_life_main_6.0      220112 non-null  uint8\n",
      " 42  personal_life_main_7.0      220112 non-null  uint8\n",
      " 43  personal_life_main_8.0      220112 non-null  uint8\n",
      " 44  personal_smoking_0.0        220112 non-null  uint8\n",
      " 45  personal_smoking_1.0        220112 non-null  uint8\n",
      " 46  personal_smoking_2.0        220112 non-null  uint8\n",
      " 47  personal_smoking_3.0        220112 non-null  uint8\n",
      " 48  personal_smoking_4.0        220112 non-null  uint8\n",
      " 49  personal_smoking_5.0        220112 non-null  uint8\n",
      " 50  personal_alcohol_0.0        220112 non-null  uint8\n",
      " 51  personal_alcohol_1.0        220112 non-null  uint8\n",
      " 52  personal_alcohol_2.0        220112 non-null  uint8\n",
      " 53  personal_alcohol_3.0        220112 non-null  uint8\n",
      " 54  personal_alcohol_4.0        220112 non-null  uint8\n",
      " 55  personal_alcohol_5.0        220112 non-null  uint8\n",
      "dtypes: int64(1), uint8(55)\n",
      "memory usage: 24.9 MB\n"
     ]
    }
   ],
   "source": [
    "data.info()"
   ]
  },
  {
   "cell_type": "markdown",
   "metadata": {},
   "source": [
    "**Деление выборки на объекты - `X` и метки - `y`:**"
   ]
  },
  {
   "cell_type": "code",
   "execution_count": 18,
   "metadata": {},
   "outputs": [],
   "source": [
    "X = data.drop('sex', axis=1)\n",
    "y = data['sex']"
   ]
  },
  {
   "cell_type": "markdown",
   "metadata": {},
   "source": [
    "**Разбиение выборки на `Train set` и `Test set`:**"
   ]
  },
  {
   "cell_type": "code",
   "execution_count": 19,
   "metadata": {},
   "outputs": [],
   "source": [
    "X_train, X_test, y_train, y_test = train_test_split(X, y, test_size=0.3, random_state=17)"
   ]
  },
  {
   "cell_type": "markdown",
   "metadata": {},
   "source": [
    "**Задаем модель:**"
   ]
  },
  {
   "cell_type": "code",
   "execution_count": 86,
   "metadata": {},
   "outputs": [
    {
     "name": "stdout",
     "output_type": "stream",
     "text": [
      "Wall time: 13.1 s\n"
     ]
    },
    {
     "data": {
      "text/plain": [
       "LogisticRegression(C=0.092, class_weight=None, dual=False, fit_intercept=True,\n",
       "                   intercept_scaling=1, l1_ratio=None, max_iter=100,\n",
       "                   multi_class='auto', n_jobs=-1, penalty='l2', random_state=17,\n",
       "                   solver='lbfgs', tol=0.0001, verbose=0, warm_start=False)"
      ]
     },
     "execution_count": 86,
     "metadata": {},
     "output_type": "execute_result"
    }
   ],
   "source": [
    "%%time\n",
    "\n",
    "log_reg = LogisticRegression(C=0.092, random_state=17, n_jobs=-1)\n",
    "\n",
    "log_reg.fit(X_train, y_train)"
   ]
  },
  {
   "cell_type": "markdown",
   "metadata": {},
   "source": [
    "**Выбор наилучшего парамтера регуляризации:**"
   ]
  },
  {
   "cell_type": "code",
   "execution_count": 85,
   "metadata": {},
   "outputs": [
    {
     "name": "stdout",
     "output_type": "stream",
     "text": [
      "Точность прогноза при С = 0.08 состовляет: 0.564558\n",
      "Точность прогноза при С = 0.08105263157894738 состовляет: 0.564558\n",
      "Точность прогноза при С = 0.08210526315789474 состовляет: 0.564558\n",
      "Точность прогноза при С = 0.08315789473684211 состовляет: 0.564573\n",
      "Точность прогноза при С = 0.08421052631578947 состовляет: 0.564558\n",
      "Точность прогноза при С = 0.08526315789473685 состовляет: 0.564573\n",
      "Точность прогноза при С = 0.0863157894736842 состовляет: 0.564573\n",
      "Точность прогноза при С = 0.08736842105263158 состовляет: 0.564603\n",
      "Точность прогноза при С = 0.08842105263157896 состовляет: 0.564588\n",
      "Точность прогноза при С = 0.08947368421052632 состовляет: 0.564603\n",
      "Точность прогноза при С = 0.09052631578947369 состовляет: 0.564603\n",
      "Точность прогноза при С = 0.09157894736842105 состовляет: 0.564618\n",
      "Точность прогноза при С = 0.09263157894736843 состовляет: 0.564603\n",
      "Точность прогноза при С = 0.09368421052631579 состовляет: 0.564603\n",
      "Точность прогноза при С = 0.09473684210526316 состовляет: 0.564603\n",
      "Точность прогноза при С = 0.09578947368421054 состовляет: 0.564633\n",
      "Точность прогноза при С = 0.0968421052631579 состовляет: 0.564649\n",
      "Точность прогноза при С = 0.09789473684210527 состовляет: 0.564633\n",
      "Точность прогноза при С = 0.09894736842105264 состовляет: 0.564633\n",
      "Точность прогноза при С = 0.1 состовляет: 0.564633\n",
      "Wall time: 3min 57s\n"
     ]
    }
   ],
   "source": [
    "%%time\n",
    "\n",
    "for C in np.linspace(0.08, 0.1, 20):\n",
    "    \n",
    "    log_reg = LogisticRegression(C=C, random_state=17, n_jobs=-1)\n",
    "\n",
    "    log_reg.fit(X_train, y_train)\n",
    "    \n",
    "    print('Точность прогноза при С = {} состовляет: {:.6f}'.format(C, accuracy_score(log_reg.predict(X_test), y_test)))"
   ]
  },
  {
   "cell_type": "markdown",
   "metadata": {},
   "source": [
    "**Функция, которая показывает важность признаков:**"
   ]
  },
  {
   "cell_type": "code",
   "execution_count": 23,
   "metadata": {},
   "outputs": [],
   "source": [
    "def best_coef(coefs, features=X.columns):\n",
    "    return pd.DataFrame(coefs, index=features, columns=['coef']).sort_values('coef', ascending=False)"
   ]
  },
  {
   "cell_type": "code",
   "execution_count": 24,
   "metadata": {},
   "outputs": [
    {
     "data": {
      "text/html": [
       "<div>\n",
       "<style scoped>\n",
       "    .dataframe tbody tr th:only-of-type {\n",
       "        vertical-align: middle;\n",
       "    }\n",
       "\n",
       "    .dataframe tbody tr th {\n",
       "        vertical-align: top;\n",
       "    }\n",
       "\n",
       "    .dataframe thead th {\n",
       "        text-align: right;\n",
       "    }\n",
       "</style>\n",
       "<table border=\"1\" class=\"dataframe\">\n",
       "  <thead>\n",
       "    <tr style=\"text-align: right;\">\n",
       "      <th></th>\n",
       "      <th>coef</th>\n",
       "    </tr>\n",
       "  </thead>\n",
       "  <tbody>\n",
       "    <tr>\n",
       "      <th>personal_life_main_7.0</th>\n",
       "      <td>0.574667</td>\n",
       "    </tr>\n",
       "    <tr>\n",
       "      <th>personal_life_main_1.0</th>\n",
       "      <td>0.397370</td>\n",
       "    </tr>\n",
       "    <tr>\n",
       "      <th>personal_people_main_6.0</th>\n",
       "      <td>0.387097</td>\n",
       "    </tr>\n",
       "    <tr>\n",
       "      <th>personal_life_main_6.0</th>\n",
       "      <td>0.307671</td>\n",
       "    </tr>\n",
       "    <tr>\n",
       "      <th>personal_people_main_1.0</th>\n",
       "      <td>0.274404</td>\n",
       "    </tr>\n",
       "    <tr>\n",
       "      <th>personal_religion_id_102.0</th>\n",
       "      <td>0.209412</td>\n",
       "    </tr>\n",
       "    <tr>\n",
       "      <th>personal_smoking_0.0</th>\n",
       "      <td>0.204698</td>\n",
       "    </tr>\n",
       "    <tr>\n",
       "      <th>personal_people_main_4.0</th>\n",
       "      <td>0.203277</td>\n",
       "    </tr>\n",
       "    <tr>\n",
       "      <th>relation_3.0</th>\n",
       "      <td>0.183694</td>\n",
       "    </tr>\n",
       "    <tr>\n",
       "      <th>personal_religion_id_101.0</th>\n",
       "      <td>0.158592</td>\n",
       "    </tr>\n",
       "    <tr>\n",
       "      <th>personal_people_main_2.0</th>\n",
       "      <td>0.125441</td>\n",
       "    </tr>\n",
       "    <tr>\n",
       "      <th>personal_life_main_0.0</th>\n",
       "      <td>0.120183</td>\n",
       "    </tr>\n",
       "    <tr>\n",
       "      <th>relation_4.0</th>\n",
       "      <td>0.110892</td>\n",
       "    </tr>\n",
       "    <tr>\n",
       "      <th>personal_people_main_5.0</th>\n",
       "      <td>0.052586</td>\n",
       "    </tr>\n",
       "    <tr>\n",
       "      <th>relation_2.0</th>\n",
       "      <td>-0.013865</td>\n",
       "    </tr>\n",
       "    <tr>\n",
       "      <th>personal_alcohol_0.0</th>\n",
       "      <td>-0.015444</td>\n",
       "    </tr>\n",
       "    <tr>\n",
       "      <th>personal_political_3.0</th>\n",
       "      <td>-0.019459</td>\n",
       "    </tr>\n",
       "    <tr>\n",
       "      <th>personal_religion_id_139.0</th>\n",
       "      <td>-0.043804</td>\n",
       "    </tr>\n",
       "    <tr>\n",
       "      <th>personal_political_8.0</th>\n",
       "      <td>-0.058783</td>\n",
       "    </tr>\n",
       "    <tr>\n",
       "      <th>personal_religion_id_200.0</th>\n",
       "      <td>-0.081659</td>\n",
       "    </tr>\n",
       "    <tr>\n",
       "      <th>personal_people_main_0.0</th>\n",
       "      <td>-0.082328</td>\n",
       "    </tr>\n",
       "    <tr>\n",
       "      <th>personal_people_main_3.0</th>\n",
       "      <td>-0.083525</td>\n",
       "    </tr>\n",
       "    <tr>\n",
       "      <th>personal_political_4.0</th>\n",
       "      <td>-0.090147</td>\n",
       "    </tr>\n",
       "    <tr>\n",
       "      <th>personal_life_main_2.0</th>\n",
       "      <td>-0.109874</td>\n",
       "    </tr>\n",
       "    <tr>\n",
       "      <th>personal_alcohol_2.0</th>\n",
       "      <td>-0.114580</td>\n",
       "    </tr>\n",
       "    <tr>\n",
       "      <th>personal_religion_id_129.0</th>\n",
       "      <td>-0.116416</td>\n",
       "    </tr>\n",
       "    <tr>\n",
       "      <th>relation_5.0</th>\n",
       "      <td>-0.142315</td>\n",
       "    </tr>\n",
       "    <tr>\n",
       "      <th>personal_religion_id_167.0</th>\n",
       "      <td>-0.142367</td>\n",
       "    </tr>\n",
       "    <tr>\n",
       "      <th>relation_7.0</th>\n",
       "      <td>-0.168229</td>\n",
       "    </tr>\n",
       "    <tr>\n",
       "      <th>personal_alcohol_1.0</th>\n",
       "      <td>-0.182498</td>\n",
       "    </tr>\n",
       "    <tr>\n",
       "      <th>personal_smoking_2.0</th>\n",
       "      <td>-0.182910</td>\n",
       "    </tr>\n",
       "    <tr>\n",
       "      <th>personal_life_main_5.0</th>\n",
       "      <td>-0.202962</td>\n",
       "    </tr>\n",
       "    <tr>\n",
       "      <th>personal_religion_id_201.0</th>\n",
       "      <td>-0.211811</td>\n",
       "    </tr>\n",
       "    <tr>\n",
       "      <th>personal_religion_id_107.0</th>\n",
       "      <td>-0.236497</td>\n",
       "    </tr>\n",
       "    <tr>\n",
       "      <th>personal_political_5.0</th>\n",
       "      <td>-0.236742</td>\n",
       "    </tr>\n",
       "    <tr>\n",
       "      <th>personal_life_main_3.0</th>\n",
       "      <td>-0.238779</td>\n",
       "    </tr>\n",
       "    <tr>\n",
       "      <th>relation_8.0</th>\n",
       "      <td>-0.253416</td>\n",
       "    </tr>\n",
       "    <tr>\n",
       "      <th>personal_life_main_4.0</th>\n",
       "      <td>-0.368959</td>\n",
       "    </tr>\n",
       "    <tr>\n",
       "      <th>relation_1.0</th>\n",
       "      <td>-0.369594</td>\n",
       "    </tr>\n",
       "    <tr>\n",
       "      <th>personal_religion_id_124.0</th>\n",
       "      <td>-0.376628</td>\n",
       "    </tr>\n",
       "    <tr>\n",
       "      <th>personal_smoking_4.0</th>\n",
       "      <td>-0.385741</td>\n",
       "    </tr>\n",
       "    <tr>\n",
       "      <th>personal_smoking_1.0</th>\n",
       "      <td>-0.391944</td>\n",
       "    </tr>\n",
       "    <tr>\n",
       "      <th>personal_smoking_3.0</th>\n",
       "      <td>-0.395913</td>\n",
       "    </tr>\n",
       "    <tr>\n",
       "      <th>personal_alcohol_3.0</th>\n",
       "      <td>-0.398499</td>\n",
       "    </tr>\n",
       "    <tr>\n",
       "      <th>personal_life_main_8.0</th>\n",
       "      <td>-0.404989</td>\n",
       "    </tr>\n",
       "    <tr>\n",
       "      <th>personal_alcohol_4.0</th>\n",
       "      <td>-0.439025</td>\n",
       "    </tr>\n",
       "    <tr>\n",
       "      <th>relation_6.0</th>\n",
       "      <td>-0.446764</td>\n",
       "    </tr>\n",
       "    <tr>\n",
       "      <th>personal_political_7.0</th>\n",
       "      <td>-0.454806</td>\n",
       "    </tr>\n",
       "    <tr>\n",
       "      <th>relation_0.0</th>\n",
       "      <td>-0.491548</td>\n",
       "    </tr>\n",
       "    <tr>\n",
       "      <th>personal_political_9.0</th>\n",
       "      <td>-0.503182</td>\n",
       "    </tr>\n",
       "    <tr>\n",
       "      <th>personal_smoking_5.0</th>\n",
       "      <td>-0.680117</td>\n",
       "    </tr>\n",
       "    <tr>\n",
       "      <th>personal_political_2.0</th>\n",
       "      <td>-0.736581</td>\n",
       "    </tr>\n",
       "    <tr>\n",
       "      <th>personal_alcohol_5.0</th>\n",
       "      <td>-0.737207</td>\n",
       "    </tr>\n",
       "    <tr>\n",
       "      <th>personal_political_6.0</th>\n",
       "      <td>-0.782309</td>\n",
       "    </tr>\n",
       "    <tr>\n",
       "      <th>personal_political_1.0</th>\n",
       "      <td>-0.881858</td>\n",
       "    </tr>\n",
       "  </tbody>\n",
       "</table>\n",
       "</div>"
      ],
      "text/plain": [
       "                                coef\n",
       "personal_life_main_7.0      0.574667\n",
       "personal_life_main_1.0      0.397370\n",
       "personal_people_main_6.0    0.387097\n",
       "personal_life_main_6.0      0.307671\n",
       "personal_people_main_1.0    0.274404\n",
       "personal_religion_id_102.0  0.209412\n",
       "personal_smoking_0.0        0.204698\n",
       "personal_people_main_4.0    0.203277\n",
       "relation_3.0                0.183694\n",
       "personal_religion_id_101.0  0.158592\n",
       "personal_people_main_2.0    0.125441\n",
       "personal_life_main_0.0      0.120183\n",
       "relation_4.0                0.110892\n",
       "personal_people_main_5.0    0.052586\n",
       "relation_2.0               -0.013865\n",
       "personal_alcohol_0.0       -0.015444\n",
       "personal_political_3.0     -0.019459\n",
       "personal_religion_id_139.0 -0.043804\n",
       "personal_political_8.0     -0.058783\n",
       "personal_religion_id_200.0 -0.081659\n",
       "personal_people_main_0.0   -0.082328\n",
       "personal_people_main_3.0   -0.083525\n",
       "personal_political_4.0     -0.090147\n",
       "personal_life_main_2.0     -0.109874\n",
       "personal_alcohol_2.0       -0.114580\n",
       "personal_religion_id_129.0 -0.116416\n",
       "relation_5.0               -0.142315\n",
       "personal_religion_id_167.0 -0.142367\n",
       "relation_7.0               -0.168229\n",
       "personal_alcohol_1.0       -0.182498\n",
       "personal_smoking_2.0       -0.182910\n",
       "personal_life_main_5.0     -0.202962\n",
       "personal_religion_id_201.0 -0.211811\n",
       "personal_religion_id_107.0 -0.236497\n",
       "personal_political_5.0     -0.236742\n",
       "personal_life_main_3.0     -0.238779\n",
       "relation_8.0               -0.253416\n",
       "personal_life_main_4.0     -0.368959\n",
       "relation_1.0               -0.369594\n",
       "personal_religion_id_124.0 -0.376628\n",
       "personal_smoking_4.0       -0.385741\n",
       "personal_smoking_1.0       -0.391944\n",
       "personal_smoking_3.0       -0.395913\n",
       "personal_alcohol_3.0       -0.398499\n",
       "personal_life_main_8.0     -0.404989\n",
       "personal_alcohol_4.0       -0.439025\n",
       "relation_6.0               -0.446764\n",
       "personal_political_7.0     -0.454806\n",
       "relation_0.0               -0.491548\n",
       "personal_political_9.0     -0.503182\n",
       "personal_smoking_5.0       -0.680117\n",
       "personal_political_2.0     -0.736581\n",
       "personal_alcohol_5.0       -0.737207\n",
       "personal_political_6.0     -0.782309\n",
       "personal_political_1.0     -0.881858"
      ]
     },
     "execution_count": 24,
     "metadata": {},
     "output_type": "execute_result"
    }
   ],
   "source": [
    "best_coef(log_reg.coef_[0])"
   ]
  }
 ],
 "metadata": {
  "kernelspec": {
   "display_name": "Python 3",
   "language": "python",
   "name": "python3"
  },
  "language_info": {
   "codemirror_mode": {
    "name": "ipython",
    "version": 3
   },
   "file_extension": ".py",
   "mimetype": "text/x-python",
   "name": "python",
   "nbconvert_exporter": "python",
   "pygments_lexer": "ipython3",
   "version": "3.7.6"
  }
 },
 "nbformat": 4,
 "nbformat_minor": 4
}
