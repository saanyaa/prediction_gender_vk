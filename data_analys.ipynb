{
 "cells": [
  {
   "cell_type": "markdown",
   "metadata": {},
   "source": [
    "## Анализ данных "
   ]
  },
  {
   "cell_type": "markdown",
   "metadata": {},
   "source": [
    "**Импорт библиотек:**"
   ]
  },
  {
   "cell_type": "code",
   "execution_count": 137,
   "metadata": {},
   "outputs": [],
   "source": [
    "import pandas as pd\n",
    "import numpy as np\n",
    "import seaborn as sns\n",
    "import matplotlib.pyplot as plt\n",
    "from sklearn.metrics import accuracy_score\n",
    "from sklearn.model_selection import train_test_split, cross_val_score\n",
    "from sklearn.linear_model import LogisticRegression, Lasso, LassoCV"
   ]
  },
  {
   "cell_type": "code",
   "execution_count": 60,
   "metadata": {},
   "outputs": [],
   "source": [
    "data = pd.read_csv('data/data.csv', index_col='id')"
   ]
  },
  {
   "cell_type": "code",
   "execution_count": 72,
   "metadata": {},
   "outputs": [
    {
     "data": {
      "text/html": [
       "<div>\n",
       "<style scoped>\n",
       "    .dataframe tbody tr th:only-of-type {\n",
       "        vertical-align: middle;\n",
       "    }\n",
       "\n",
       "    .dataframe tbody tr th {\n",
       "        vertical-align: top;\n",
       "    }\n",
       "\n",
       "    .dataframe thead th {\n",
       "        text-align: right;\n",
       "    }\n",
       "</style>\n",
       "<table border=\"1\" class=\"dataframe\">\n",
       "  <thead>\n",
       "    <tr style=\"text-align: right;\">\n",
       "      <th></th>\n",
       "      <th>relation</th>\n",
       "      <th>personal_political</th>\n",
       "      <th>personal_religion_id</th>\n",
       "      <th>personal_people_main</th>\n",
       "      <th>personal_life_main</th>\n",
       "      <th>personal_smoking</th>\n",
       "      <th>personal_alcohol</th>\n",
       "      <th>universities_id</th>\n",
       "      <th>sex</th>\n",
       "    </tr>\n",
       "    <tr>\n",
       "      <th>id</th>\n",
       "      <th></th>\n",
       "      <th></th>\n",
       "      <th></th>\n",
       "      <th></th>\n",
       "      <th></th>\n",
       "      <th></th>\n",
       "      <th></th>\n",
       "      <th></th>\n",
       "      <th></th>\n",
       "    </tr>\n",
       "  </thead>\n",
       "  <tbody>\n",
       "    <tr>\n",
       "      <th>42460480</th>\n",
       "      <td>4.0</td>\n",
       "      <td>NaN</td>\n",
       "      <td>NaN</td>\n",
       "      <td>NaN</td>\n",
       "      <td>NaN</td>\n",
       "      <td>NaN</td>\n",
       "      <td>NaN</td>\n",
       "      <td>4629.0</td>\n",
       "      <td>1</td>\n",
       "    </tr>\n",
       "    <tr>\n",
       "      <th>8882147</th>\n",
       "      <td>NaN</td>\n",
       "      <td>NaN</td>\n",
       "      <td>NaN</td>\n",
       "      <td>NaN</td>\n",
       "      <td>NaN</td>\n",
       "      <td>NaN</td>\n",
       "      <td>NaN</td>\n",
       "      <td>NaN</td>\n",
       "      <td>1</td>\n",
       "    </tr>\n",
       "    <tr>\n",
       "      <th>55348747</th>\n",
       "      <td>1.0</td>\n",
       "      <td>3.0</td>\n",
       "      <td>NaN</td>\n",
       "      <td>NaN</td>\n",
       "      <td>NaN</td>\n",
       "      <td>NaN</td>\n",
       "      <td>NaN</td>\n",
       "      <td>35837.0</td>\n",
       "      <td>1</td>\n",
       "    </tr>\n",
       "    <tr>\n",
       "      <th>26921686</th>\n",
       "      <td>2.0</td>\n",
       "      <td>NaN</td>\n",
       "      <td>102.0</td>\n",
       "      <td>NaN</td>\n",
       "      <td>NaN</td>\n",
       "      <td>NaN</td>\n",
       "      <td>NaN</td>\n",
       "      <td>364.0</td>\n",
       "      <td>1</td>\n",
       "    </tr>\n",
       "    <tr>\n",
       "      <th>38970318</th>\n",
       "      <td>1.0</td>\n",
       "      <td>3.0</td>\n",
       "      <td>NaN</td>\n",
       "      <td>NaN</td>\n",
       "      <td>NaN</td>\n",
       "      <td>NaN</td>\n",
       "      <td>NaN</td>\n",
       "      <td>NaN</td>\n",
       "      <td>1</td>\n",
       "    </tr>\n",
       "  </tbody>\n",
       "</table>\n",
       "</div>"
      ],
      "text/plain": [
       "          relation  personal_political  personal_religion_id  \\\n",
       "id                                                             \n",
       "42460480       4.0                 NaN                   NaN   \n",
       "8882147        NaN                 NaN                   NaN   \n",
       "55348747       1.0                 3.0                   NaN   \n",
       "26921686       2.0                 NaN                 102.0   \n",
       "38970318       1.0                 3.0                   NaN   \n",
       "\n",
       "          personal_people_main  personal_life_main  personal_smoking  \\\n",
       "id                                                                     \n",
       "42460480                   NaN                 NaN               NaN   \n",
       "8882147                    NaN                 NaN               NaN   \n",
       "55348747                   NaN                 NaN               NaN   \n",
       "26921686                   NaN                 NaN               NaN   \n",
       "38970318                   NaN                 NaN               NaN   \n",
       "\n",
       "          personal_alcohol  universities_id  sex  \n",
       "id                                                \n",
       "42460480               NaN           4629.0    1  \n",
       "8882147                NaN              NaN    1  \n",
       "55348747               NaN          35837.0    1  \n",
       "26921686               NaN            364.0    1  \n",
       "38970318               NaN              NaN    1  "
      ]
     },
     "execution_count": 72,
     "metadata": {},
     "output_type": "execute_result"
    }
   ],
   "source": [
    "data.head()"
   ]
  },
  {
   "cell_type": "code",
   "execution_count": 100,
   "metadata": {},
   "outputs": [
    {
     "data": {
      "text/plain": [
       "universities_id\n",
       "2.0         1692\n",
       "1.0          840\n",
       "477.0        304\n",
       "56.0         275\n",
       "1096.0       274\n",
       "            ... \n",
       "225584.0       1\n",
       "226203.0       1\n",
       "226328.0       1\n",
       "226572.0       1\n",
       "98293.0        1\n",
       "Name: sex, Length: 7523, dtype: int64"
      ]
     },
     "execution_count": 100,
     "metadata": {},
     "output_type": "execute_result"
    }
   ],
   "source": [
    "data.groupby('universities_id')['sex'].count().sort_values(ascending = False)"
   ]
  },
  {
   "cell_type": "code",
   "execution_count": 101,
   "metadata": {},
   "outputs": [],
   "source": [
    "data = data.drop('universities_id', axis=1)"
   ]
  },
  {
   "cell_type": "code",
   "execution_count": 102,
   "metadata": {},
   "outputs": [
    {
     "data": {
      "text/html": [
       "<div>\n",
       "<style scoped>\n",
       "    .dataframe tbody tr th:only-of-type {\n",
       "        vertical-align: middle;\n",
       "    }\n",
       "\n",
       "    .dataframe tbody tr th {\n",
       "        vertical-align: top;\n",
       "    }\n",
       "\n",
       "    .dataframe thead th {\n",
       "        text-align: right;\n",
       "    }\n",
       "</style>\n",
       "<table border=\"1\" class=\"dataframe\">\n",
       "  <thead>\n",
       "    <tr style=\"text-align: right;\">\n",
       "      <th></th>\n",
       "      <th>relation</th>\n",
       "      <th>personal_political</th>\n",
       "      <th>personal_religion_id</th>\n",
       "      <th>personal_people_main</th>\n",
       "      <th>personal_life_main</th>\n",
       "      <th>personal_smoking</th>\n",
       "      <th>personal_alcohol</th>\n",
       "      <th>sex</th>\n",
       "    </tr>\n",
       "    <tr>\n",
       "      <th>id</th>\n",
       "      <th></th>\n",
       "      <th></th>\n",
       "      <th></th>\n",
       "      <th></th>\n",
       "      <th></th>\n",
       "      <th></th>\n",
       "      <th></th>\n",
       "      <th></th>\n",
       "    </tr>\n",
       "  </thead>\n",
       "  <tbody>\n",
       "    <tr>\n",
       "      <th>42460480</th>\n",
       "      <td>4.0</td>\n",
       "      <td>NaN</td>\n",
       "      <td>NaN</td>\n",
       "      <td>NaN</td>\n",
       "      <td>NaN</td>\n",
       "      <td>NaN</td>\n",
       "      <td>NaN</td>\n",
       "      <td>1</td>\n",
       "    </tr>\n",
       "    <tr>\n",
       "      <th>8882147</th>\n",
       "      <td>NaN</td>\n",
       "      <td>NaN</td>\n",
       "      <td>NaN</td>\n",
       "      <td>NaN</td>\n",
       "      <td>NaN</td>\n",
       "      <td>NaN</td>\n",
       "      <td>NaN</td>\n",
       "      <td>1</td>\n",
       "    </tr>\n",
       "    <tr>\n",
       "      <th>55348747</th>\n",
       "      <td>1.0</td>\n",
       "      <td>3.0</td>\n",
       "      <td>NaN</td>\n",
       "      <td>NaN</td>\n",
       "      <td>NaN</td>\n",
       "      <td>NaN</td>\n",
       "      <td>NaN</td>\n",
       "      <td>1</td>\n",
       "    </tr>\n",
       "    <tr>\n",
       "      <th>26921686</th>\n",
       "      <td>2.0</td>\n",
       "      <td>NaN</td>\n",
       "      <td>102.0</td>\n",
       "      <td>NaN</td>\n",
       "      <td>NaN</td>\n",
       "      <td>NaN</td>\n",
       "      <td>NaN</td>\n",
       "      <td>1</td>\n",
       "    </tr>\n",
       "    <tr>\n",
       "      <th>38970318</th>\n",
       "      <td>1.0</td>\n",
       "      <td>3.0</td>\n",
       "      <td>NaN</td>\n",
       "      <td>NaN</td>\n",
       "      <td>NaN</td>\n",
       "      <td>NaN</td>\n",
       "      <td>NaN</td>\n",
       "      <td>1</td>\n",
       "    </tr>\n",
       "  </tbody>\n",
       "</table>\n",
       "</div>"
      ],
      "text/plain": [
       "          relation  personal_political  personal_religion_id  \\\n",
       "id                                                             \n",
       "42460480       4.0                 NaN                   NaN   \n",
       "8882147        NaN                 NaN                   NaN   \n",
       "55348747       1.0                 3.0                   NaN   \n",
       "26921686       2.0                 NaN                 102.0   \n",
       "38970318       1.0                 3.0                   NaN   \n",
       "\n",
       "          personal_people_main  personal_life_main  personal_smoking  \\\n",
       "id                                                                     \n",
       "42460480                   NaN                 NaN               NaN   \n",
       "8882147                    NaN                 NaN               NaN   \n",
       "55348747                   NaN                 NaN               NaN   \n",
       "26921686                   NaN                 NaN               NaN   \n",
       "38970318                   NaN                 NaN               NaN   \n",
       "\n",
       "          personal_alcohol  sex  \n",
       "id                               \n",
       "42460480               NaN    1  \n",
       "8882147                NaN    1  \n",
       "55348747               NaN    1  \n",
       "26921686               NaN    1  \n",
       "38970318               NaN    1  "
      ]
     },
     "execution_count": 102,
     "metadata": {},
     "output_type": "execute_result"
    }
   ],
   "source": [
    "data.head()"
   ]
  },
  {
   "cell_type": "markdown",
   "metadata": {},
   "source": [
    "**Удаляем выбросы:**"
   ]
  },
  {
   "cell_type": "code",
   "execution_count": 130,
   "metadata": {},
   "outputs": [],
   "source": [
    "data = data.drop(data[data['relation'] < 0].index)\n",
    "data = data.drop(data[data['relation'] > 8].index)\n",
    "data = data.drop(data[data['personal_political'] > 9].index)\n",
    "data = data.drop(data[data['personal_religion_id'] == 1].index)"
   ]
  },
  {
   "cell_type": "markdown",
   "metadata": {},
   "source": [
    "**Зависимость признаков от пола:**"
   ]
  },
  {
   "cell_type": "code",
   "execution_count": 126,
   "metadata": {},
   "outputs": [
    {
     "data": {
      "image/png": "[encoded data removed]",
      "text/plain": [
       "<Figure size 864x576 with 1 Axes>"
      ]
     },
     "metadata": {
      "needs_background": "light"
     },
     "output_type": "display_data"
    }
   ],
   "source": [
    "plt.figure(figsize=(12, 8))\n",
    "sns.countplot(x='relation', hue='sex', data=data);\n",
    "plt.title('Взаимосвязь семейного положения от пола');"
   ]
  },
  {
   "cell_type": "code",
   "execution_count": 128,
   "metadata": {},
   "outputs": [
    {
     "data": {
      "image/png": "[encoded data removed]",
      "text/plain": [
       "<Figure size 864x576 with 1 Axes>"
      ]
     },
     "metadata": {
      "needs_background": "light"
     },
     "output_type": "display_data"
    }
   ],
   "source": [
    "plt.figure(figsize=(12, 8))\n",
    "sns.countplot(x='personal_political', hue='sex', data=data);"
   ]
  },
  {
   "cell_type": "code",
   "execution_count": 131,
   "metadata": {},
   "outputs": [
    {
     "data": {
      "image/png": "[encoded data removed]",
      "text/plain": [
       "<Figure size 864x576 with 1 Axes>"
      ]
     },
     "metadata": {
      "needs_background": "light"
     },
     "output_type": "display_data"
    }
   ],
   "source": [
    "plt.figure(figsize=(12, 8))\n",
    "sns.countplot(x='personal_religion_id', hue='sex', data=data);"
   ]
  },
  {
   "cell_type": "code",
   "execution_count": 81,
   "metadata": {},
   "outputs": [
    {
     "data": {
      "image/png": "[encoded data removed]",
      "text/plain": [
       "<Figure size 864x576 with 1 Axes>"
      ]
     },
     "metadata": {
      "needs_background": "light"
     },
     "output_type": "display_data"
    }
   ],
   "source": [
    "plt.figure(figsize=(12, 8))\n",
    "sns.countplot(x='personal_people_main', hue='sex', data=data);"
   ]
  },
  {
   "cell_type": "code",
   "execution_count": 82,
   "metadata": {},
   "outputs": [
    {
     "data": {
      "image/png": "[encoded data removed]",
      "text/plain": [
       "<Figure size 864x576 with 1 Axes>"
      ]
     },
     "metadata": {
      "needs_background": "light"
     },
     "output_type": "display_data"
    }
   ],
   "source": [
    "plt.figure(figsize=(12, 8))\n",
    "sns.countplot(x='personal_life_main', hue='sex', data=data);"
   ]
  },
  {
   "cell_type": "code",
   "execution_count": 83,
   "metadata": {},
   "outputs": [
    {
     "data": {
      "image/png": "[encoded data removed]",
      "text/plain": [
       "<Figure size 864x576 with 1 Axes>"
      ]
     },
     "metadata": {
      "needs_background": "light"
     },
     "output_type": "display_data"
    }
   ],
   "source": [
    "plt.figure(figsize=(12, 8))\n",
    "sns.countplot(x='personal_smoking', hue='sex', data=data);"
   ]
  },
  {
   "cell_type": "code",
   "execution_count": 84,
   "metadata": {},
   "outputs": [
    {
     "data": {
      "image/png": "[encoded data removed]",
      "text/plain": [
       "<Figure size 864x576 with 1 Axes>"
      ]
     },
     "metadata": {
      "needs_background": "light"
     },
     "output_type": "display_data"
    }
   ],
   "source": [
    "plt.figure(figsize = (12, 8))\n",
    "sns.countplot(x='personal_alcohol', hue='sex', data=data);"
   ]
  },
  {
   "cell_type": "markdown",
   "metadata": {},
   "source": [
    "**Унитарное кодирование признаков - `One Hot Encoding`:**"
   ]
  },
  {
   "cell_type": "code",
   "execution_count": 132,
   "metadata": {},
   "outputs": [
    {
     "data": {
      "text/html": [
       "<div>\n",
       "<style scoped>\n",
       "    .dataframe tbody tr th:only-of-type {\n",
       "        vertical-align: middle;\n",
       "    }\n",
       "\n",
       "    .dataframe tbody tr th {\n",
       "        vertical-align: top;\n",
       "    }\n",
       "\n",
       "    .dataframe thead th {\n",
       "        text-align: right;\n",
       "    }\n",
       "</style>\n",
       "<table border=\"1\" class=\"dataframe\">\n",
       "  <thead>\n",
       "    <tr style=\"text-align: right;\">\n",
       "      <th></th>\n",
       "      <th>relation</th>\n",
       "      <th>personal_political</th>\n",
       "      <th>personal_religion_id</th>\n",
       "      <th>personal_people_main</th>\n",
       "      <th>personal_life_main</th>\n",
       "      <th>personal_smoking</th>\n",
       "      <th>personal_alcohol</th>\n",
       "      <th>sex</th>\n",
       "    </tr>\n",
       "    <tr>\n",
       "      <th>id</th>\n",
       "      <th></th>\n",
       "      <th></th>\n",
       "      <th></th>\n",
       "      <th></th>\n",
       "      <th></th>\n",
       "      <th></th>\n",
       "      <th></th>\n",
       "      <th></th>\n",
       "    </tr>\n",
       "  </thead>\n",
       "  <tbody>\n",
       "    <tr>\n",
       "      <th>42460480</th>\n",
       "      <td>4.0</td>\n",
       "      <td>NaN</td>\n",
       "      <td>NaN</td>\n",
       "      <td>NaN</td>\n",
       "      <td>NaN</td>\n",
       "      <td>NaN</td>\n",
       "      <td>NaN</td>\n",
       "      <td>1</td>\n",
       "    </tr>\n",
       "    <tr>\n",
       "      <th>8882147</th>\n",
       "      <td>NaN</td>\n",
       "      <td>NaN</td>\n",
       "      <td>NaN</td>\n",
       "      <td>NaN</td>\n",
       "      <td>NaN</td>\n",
       "      <td>NaN</td>\n",
       "      <td>NaN</td>\n",
       "      <td>1</td>\n",
       "    </tr>\n",
       "    <tr>\n",
       "      <th>55348747</th>\n",
       "      <td>1.0</td>\n",
       "      <td>3.0</td>\n",
       "      <td>NaN</td>\n",
       "      <td>NaN</td>\n",
       "      <td>NaN</td>\n",
       "      <td>NaN</td>\n",
       "      <td>NaN</td>\n",
       "      <td>1</td>\n",
       "    </tr>\n",
       "    <tr>\n",
       "      <th>26921686</th>\n",
       "      <td>2.0</td>\n",
       "      <td>NaN</td>\n",
       "      <td>102.0</td>\n",
       "      <td>NaN</td>\n",
       "      <td>NaN</td>\n",
       "      <td>NaN</td>\n",
       "      <td>NaN</td>\n",
       "      <td>1</td>\n",
       "    </tr>\n",
       "    <tr>\n",
       "      <th>38970318</th>\n",
       "      <td>1.0</td>\n",
       "      <td>3.0</td>\n",
       "      <td>NaN</td>\n",
       "      <td>NaN</td>\n",
       "      <td>NaN</td>\n",
       "      <td>NaN</td>\n",
       "      <td>NaN</td>\n",
       "      <td>1</td>\n",
       "    </tr>\n",
       "  </tbody>\n",
       "</table>\n",
       "</div>"
      ],
      "text/plain": [
       "          relation  personal_political  personal_religion_id  \\\n",
       "id                                                             \n",
       "42460480       4.0                 NaN                   NaN   \n",
       "8882147        NaN                 NaN                   NaN   \n",
       "55348747       1.0                 3.0                   NaN   \n",
       "26921686       2.0                 NaN                 102.0   \n",
       "38970318       1.0                 3.0                   NaN   \n",
       "\n",
       "          personal_people_main  personal_life_main  personal_smoking  \\\n",
       "id                                                                     \n",
       "42460480                   NaN                 NaN               NaN   \n",
       "8882147                    NaN                 NaN               NaN   \n",
       "55348747                   NaN                 NaN               NaN   \n",
       "26921686                   NaN                 NaN               NaN   \n",
       "38970318                   NaN                 NaN               NaN   \n",
       "\n",
       "          personal_alcohol  sex  \n",
       "id                               \n",
       "42460480               NaN    1  \n",
       "8882147                NaN    1  \n",
       "55348747               NaN    1  \n",
       "26921686               NaN    1  \n",
       "38970318               NaN    1  "
      ]
     },
     "execution_count": 132,
     "metadata": {},
     "output_type": "execute_result"
    }
   ],
   "source": [
    "data.head()"
   ]
  },
  {
   "cell_type": "code",
   "execution_count": 133,
   "metadata": {},
   "outputs": [],
   "source": [
    "data = pd.get_dummies(data, columns=['relation',\n",
    "                      'personal_political',\n",
    "                      'personal_religion_id', \n",
    "                      'personal_people_main', \n",
    "                      'personal_life_main',\n",
    "                      'personal_smoking', \n",
    "                      'personal_alcohol'])"
   ]
  },
  {
   "cell_type": "code",
   "execution_count": 135,
   "metadata": {},
   "outputs": [
    {
     "name": "stdout",
     "output_type": "stream",
     "text": [
      "<class 'pandas.core.frame.DataFrame'>\n",
      "Int64Index: 220112 entries, 42460480 to 52653967\n",
      "Data columns (total 56 columns):\n",
      " #   Column                      Non-Null Count   Dtype\n",
      "---  ------                      --------------   -----\n",
      " 0   sex                         220112 non-null  int64\n",
      " 1   relation_0.0                220112 non-null  uint8\n",
      " 2   relation_1.0                220112 non-null  uint8\n",
      " 3   relation_2.0                220112 non-null  uint8\n",
      " 4   relation_3.0                220112 non-null  uint8\n",
      " 5   relation_4.0                220112 non-null  uint8\n",
      " 6   relation_5.0                220112 non-null  uint8\n",
      " 7   relation_6.0                220112 non-null  uint8\n",
      " 8   relation_7.0                220112 non-null  uint8\n",
      " 9   relation_8.0                220112 non-null  uint8\n",
      " 10  personal_political_1.0      220112 non-null  uint8\n",
      " 11  personal_political_2.0      220112 non-null  uint8\n",
      " 12  personal_political_3.0      220112 non-null  uint8\n",
      " 13  personal_political_4.0      220112 non-null  uint8\n",
      " 14  personal_political_5.0      220112 non-null  uint8\n",
      " 15  personal_political_6.0      220112 non-null  uint8\n",
      " 16  personal_political_7.0      220112 non-null  uint8\n",
      " 17  personal_political_8.0      220112 non-null  uint8\n",
      " 18  personal_political_9.0      220112 non-null  uint8\n",
      " 19  personal_religion_id_101.0  220112 non-null  uint8\n",
      " 20  personal_religion_id_102.0  220112 non-null  uint8\n",
      " 21  personal_religion_id_107.0  220112 non-null  uint8\n",
      " 22  personal_religion_id_124.0  220112 non-null  uint8\n",
      " 23  personal_religion_id_129.0  220112 non-null  uint8\n",
      " 24  personal_religion_id_139.0  220112 non-null  uint8\n",
      " 25  personal_religion_id_167.0  220112 non-null  uint8\n",
      " 26  personal_religion_id_200.0  220112 non-null  uint8\n",
      " 27  personal_religion_id_201.0  220112 non-null  uint8\n",
      " 28  personal_people_main_0.0    220112 non-null  uint8\n",
      " 29  personal_people_main_1.0    220112 non-null  uint8\n",
      " 30  personal_people_main_2.0    220112 non-null  uint8\n",
      " 31  personal_people_main_3.0    220112 non-null  uint8\n",
      " 32  personal_people_main_4.0    220112 non-null  uint8\n",
      " 33  personal_people_main_5.0    220112 non-null  uint8\n",
      " 34  personal_people_main_6.0    220112 non-null  uint8\n",
      " 35  personal_life_main_0.0      220112 non-null  uint8\n",
      " 36  personal_life_main_1.0      220112 non-null  uint8\n",
      " 37  personal_life_main_2.0      220112 non-null  uint8\n",
      " 38  personal_life_main_3.0      220112 non-null  uint8\n",
      " 39  personal_life_main_4.0      220112 non-null  uint8\n",
      " 40  personal_life_main_5.0      220112 non-null  uint8\n",
      " 41  personal_life_main_6.0      220112 non-null  uint8\n",
      " 42  personal_life_main_7.0      220112 non-null  uint8\n",
      " 43  personal_life_main_8.0      220112 non-null  uint8\n",
      " 44  personal_smoking_0.0        220112 non-null  uint8\n",
      " 45  personal_smoking_1.0        220112 non-null  uint8\n",
      " 46  personal_smoking_2.0        220112 non-null  uint8\n",
      " 47  personal_smoking_3.0        220112 non-null  uint8\n",
      " 48  personal_smoking_4.0        220112 non-null  uint8\n",
      " 49  personal_smoking_5.0        220112 non-null  uint8\n",
      " 50  personal_alcohol_0.0        220112 non-null  uint8\n",
      " 51  personal_alcohol_1.0        220112 non-null  uint8\n",
      " 52  personal_alcohol_2.0        220112 non-null  uint8\n",
      " 53  personal_alcohol_3.0        220112 non-null  uint8\n",
      " 54  personal_alcohol_4.0        220112 non-null  uint8\n",
      " 55  personal_alcohol_5.0        220112 non-null  uint8\n",
      "dtypes: int64(1), uint8(55)\n",
      "memory usage: 24.9 MB\n"
     ]
    }
   ],
   "source": [
    "data.info()"
   ]
  },
  {
   "cell_type": "markdown",
   "metadata": {},
   "source": [
    "**Деление выборки на объекты - `X` и метки - `y`:**"
   ]
  },
  {
   "cell_type": "code",
   "execution_count": 136,
   "metadata": {},
   "outputs": [],
   "source": [
    "X = data.drop('sex', axis=1)\n",
    "y = data['sex']"
   ]
  },
  {
   "cell_type": "markdown",
   "metadata": {},
   "source": [
    "**Разбиение выборки на `Train set` и `Test set`:**"
   ]
  },
  {
   "cell_type": "code",
   "execution_count": 139,
   "metadata": {},
   "outputs": [],
   "source": [
    "X_train, X_test, y_train, y_test = train_test_split(X, y, test_size=0.3, random_state=17)"
   ]
  },
  {
   "cell_type": "markdown",
   "metadata": {},
   "source": [
    "**Задаем модель:**"
   ]
  },
  {
   "cell_type": "code",
   "execution_count": 187,
   "metadata": {},
   "outputs": [
    {
     "name": "stdout",
     "output_type": "stream",
     "text": [
      "Wall time: 15.5 s\n"
     ]
    },
    {
     "data": {
      "text/plain": [
       "LogisticRegression(C=0.1, class_weight=None, dual=False, fit_intercept=True,\n",
       "                   intercept_scaling=1, l1_ratio=None, max_iter=100,\n",
       "                   multi_class='auto', n_jobs=-1, penalty='l2', random_state=17,\n",
       "                   solver='lbfgs', tol=0.0001, verbose=0, warm_start=False)"
      ]
     },
     "execution_count": 187,
     "metadata": {},
     "output_type": "execute_result"
    }
   ],
   "source": [
    "%%time\n",
    "\n",
    "log_reg = LogisticRegression(C=0.1, random_state=17, n_jobs=-1)\n",
    "\n",
    "log_reg.fit(X_train, y_train)"
   ]
  },
  {
   "cell_type": "code",
   "execution_count": 198,
   "metadata": {},
   "outputs": [
    {
     "name": "stdout",
     "output_type": "stream",
     "text": [
      "Wall time: 4.62 s\n"
     ]
    },
    {
     "data": {
      "text/plain": [
       "LassoCV(alphas=array([ 0.1       ,  0.14974874,  0.19949749,  0.24924623,  0.29899497,\n",
       "        0.34874372,  0.39849246,  0.44824121,  0.49798995,  0.54773869,\n",
       "        0.59748744,  0.64723618,  0.69698492,  0.74673367,  0.79648241,\n",
       "        0.84623116,  0.8959799 ,  0.94572864,  0.99547739,  1.04522613,\n",
       "        1.09497487,  1.14472362,  1.19447236,  1.24422111,  1.29396985,\n",
       "        1.34371859,  1.39346734,  1.44321608,  1.49296482,  1.54271357,\n",
       "        1.5924...\n",
       "        9.30351759,  9.35326633,  9.40301508,  9.45276382,  9.50251256,\n",
       "        9.55226131,  9.60201005,  9.65175879,  9.70150754,  9.75125628,\n",
       "        9.80100503,  9.85075377,  9.90050251,  9.95025126, 10.        ]),\n",
       "        copy_X=True, cv=3, eps=0.001, fit_intercept=True, max_iter=1000,\n",
       "        n_alphas=100, n_jobs=None, normalize=False, positive=False,\n",
       "        precompute='auto', random_state=17, selection='cyclic', tol=0.0001,\n",
       "        verbose=False)"
      ]
     },
     "execution_count": 198,
     "metadata": {},
     "output_type": "execute_result"
    }
   ],
   "source": [
    "%%time\n",
    "n_alphas = 200\n",
    "alphas = np.linspace(0.1, 10, n_alphas)\n",
    "\n",
    "lasso_cv = LassoCV(alphas=alphas, cv=3, random_state=17)\n",
    "lasso_cv.fit(X, y)"
   ]
  },
  {
   "cell_type": "code",
   "execution_count": 199,
   "metadata": {},
   "outputs": [
    {
     "data": {
      "text/plain": [
       "10.0"
      ]
     },
     "execution_count": 199,
     "metadata": {},
     "output_type": "execute_result"
    }
   ],
   "source": [
    "lasso_cv.alpha_"
   ]
  },
  {
   "cell_type": "code",
   "execution_count": 174,
   "metadata": {},
   "outputs": [],
   "source": [
    "def best_coef(coefs, features=X.columns):\n",
    "    return pd.DataFrame(coefs, index=features, columns=['coef']).sort_values('coef', ascending=False)"
   ]
  },
  {
   "cell_type": "code",
   "execution_count": 189,
   "metadata": {},
   "outputs": [
    {
     "data": {
      "text/html": [
       "<div>\n",
       "<style scoped>\n",
       "    .dataframe tbody tr th:only-of-type {\n",
       "        vertical-align: middle;\n",
       "    }\n",
       "\n",
       "    .dataframe tbody tr th {\n",
       "        vertical-align: top;\n",
       "    }\n",
       "\n",
       "    .dataframe thead th {\n",
       "        text-align: right;\n",
       "    }\n",
       "</style>\n",
       "<table border=\"1\" class=\"dataframe\">\n",
       "  <thead>\n",
       "    <tr style=\"text-align: right;\">\n",
       "      <th></th>\n",
       "      <th>coef</th>\n",
       "    </tr>\n",
       "  </thead>\n",
       "  <tbody>\n",
       "    <tr>\n",
       "      <th>personal_life_main_7.0</th>\n",
       "      <td>0.574667</td>\n",
       "    </tr>\n",
       "    <tr>\n",
       "      <th>personal_life_main_1.0</th>\n",
       "      <td>0.397370</td>\n",
       "    </tr>\n",
       "    <tr>\n",
       "      <th>personal_people_main_6.0</th>\n",
       "      <td>0.387097</td>\n",
       "    </tr>\n",
       "    <tr>\n",
       "      <th>personal_life_main_6.0</th>\n",
       "      <td>0.307671</td>\n",
       "    </tr>\n",
       "    <tr>\n",
       "      <th>personal_people_main_1.0</th>\n",
       "      <td>0.274404</td>\n",
       "    </tr>\n",
       "    <tr>\n",
       "      <th>personal_religion_id_102.0</th>\n",
       "      <td>0.209412</td>\n",
       "    </tr>\n",
       "    <tr>\n",
       "      <th>personal_smoking_0.0</th>\n",
       "      <td>0.204698</td>\n",
       "    </tr>\n",
       "    <tr>\n",
       "      <th>personal_people_main_4.0</th>\n",
       "      <td>0.203277</td>\n",
       "    </tr>\n",
       "    <tr>\n",
       "      <th>relation_3.0</th>\n",
       "      <td>0.183694</td>\n",
       "    </tr>\n",
       "    <tr>\n",
       "      <th>personal_religion_id_101.0</th>\n",
       "      <td>0.158592</td>\n",
       "    </tr>\n",
       "    <tr>\n",
       "      <th>personal_people_main_2.0</th>\n",
       "      <td>0.125441</td>\n",
       "    </tr>\n",
       "    <tr>\n",
       "      <th>personal_life_main_0.0</th>\n",
       "      <td>0.120183</td>\n",
       "    </tr>\n",
       "    <tr>\n",
       "      <th>relation_4.0</th>\n",
       "      <td>0.110892</td>\n",
       "    </tr>\n",
       "    <tr>\n",
       "      <th>personal_people_main_5.0</th>\n",
       "      <td>0.052586</td>\n",
       "    </tr>\n",
       "    <tr>\n",
       "      <th>relation_2.0</th>\n",
       "      <td>-0.013865</td>\n",
       "    </tr>\n",
       "    <tr>\n",
       "      <th>personal_alcohol_0.0</th>\n",
       "      <td>-0.015444</td>\n",
       "    </tr>\n",
       "    <tr>\n",
       "      <th>personal_political_3.0</th>\n",
       "      <td>-0.019459</td>\n",
       "    </tr>\n",
       "    <tr>\n",
       "      <th>personal_religion_id_139.0</th>\n",
       "      <td>-0.043804</td>\n",
       "    </tr>\n",
       "    <tr>\n",
       "      <th>personal_political_8.0</th>\n",
       "      <td>-0.058783</td>\n",
       "    </tr>\n",
       "    <tr>\n",
       "      <th>personal_religion_id_200.0</th>\n",
       "      <td>-0.081659</td>\n",
       "    </tr>\n",
       "    <tr>\n",
       "      <th>personal_people_main_0.0</th>\n",
       "      <td>-0.082328</td>\n",
       "    </tr>\n",
       "    <tr>\n",
       "      <th>personal_people_main_3.0</th>\n",
       "      <td>-0.083525</td>\n",
       "    </tr>\n",
       "    <tr>\n",
       "      <th>personal_political_4.0</th>\n",
       "      <td>-0.090147</td>\n",
       "    </tr>\n",
       "    <tr>\n",
       "      <th>personal_life_main_2.0</th>\n",
       "      <td>-0.109874</td>\n",
       "    </tr>\n",
       "    <tr>\n",
       "      <th>personal_alcohol_2.0</th>\n",
       "      <td>-0.114580</td>\n",
       "    </tr>\n",
       "    <tr>\n",
       "      <th>personal_religion_id_129.0</th>\n",
       "      <td>-0.116416</td>\n",
       "    </tr>\n",
       "    <tr>\n",
       "      <th>relation_5.0</th>\n",
       "      <td>-0.142315</td>\n",
       "    </tr>\n",
       "    <tr>\n",
       "      <th>personal_religion_id_167.0</th>\n",
       "      <td>-0.142367</td>\n",
       "    </tr>\n",
       "    <tr>\n",
       "      <th>relation_7.0</th>\n",
       "      <td>-0.168229</td>\n",
       "    </tr>\n",
       "    <tr>\n",
       "      <th>personal_alcohol_1.0</th>\n",
       "      <td>-0.182498</td>\n",
       "    </tr>\n",
       "    <tr>\n",
       "      <th>personal_smoking_2.0</th>\n",
       "      <td>-0.182910</td>\n",
       "    </tr>\n",
       "    <tr>\n",
       "      <th>personal_life_main_5.0</th>\n",
       "      <td>-0.202962</td>\n",
       "    </tr>\n",
       "    <tr>\n",
       "      <th>personal_religion_id_201.0</th>\n",
       "      <td>-0.211811</td>\n",
       "    </tr>\n",
       "    <tr>\n",
       "      <th>personal_religion_id_107.0</th>\n",
       "      <td>-0.236497</td>\n",
       "    </tr>\n",
       "    <tr>\n",
       "      <th>personal_political_5.0</th>\n",
       "      <td>-0.236742</td>\n",
       "    </tr>\n",
       "    <tr>\n",
       "      <th>personal_life_main_3.0</th>\n",
       "      <td>-0.238779</td>\n",
       "    </tr>\n",
       "    <tr>\n",
       "      <th>relation_8.0</th>\n",
       "      <td>-0.253416</td>\n",
       "    </tr>\n",
       "    <tr>\n",
       "      <th>personal_life_main_4.0</th>\n",
       "      <td>-0.368959</td>\n",
       "    </tr>\n",
       "    <tr>\n",
       "      <th>relation_1.0</th>\n",
       "      <td>-0.369594</td>\n",
       "    </tr>\n",
       "    <tr>\n",
       "      <th>personal_religion_id_124.0</th>\n",
       "      <td>-0.376628</td>\n",
       "    </tr>\n",
       "    <tr>\n",
       "      <th>personal_smoking_4.0</th>\n",
       "      <td>-0.385741</td>\n",
       "    </tr>\n",
       "    <tr>\n",
       "      <th>personal_smoking_1.0</th>\n",
       "      <td>-0.391944</td>\n",
       "    </tr>\n",
       "    <tr>\n",
       "      <th>personal_smoking_3.0</th>\n",
       "      <td>-0.395913</td>\n",
       "    </tr>\n",
       "    <tr>\n",
       "      <th>personal_alcohol_3.0</th>\n",
       "      <td>-0.398499</td>\n",
       "    </tr>\n",
       "    <tr>\n",
       "      <th>personal_life_main_8.0</th>\n",
       "      <td>-0.404989</td>\n",
       "    </tr>\n",
       "    <tr>\n",
       "      <th>personal_alcohol_4.0</th>\n",
       "      <td>-0.439025</td>\n",
       "    </tr>\n",
       "    <tr>\n",
       "      <th>relation_6.0</th>\n",
       "      <td>-0.446764</td>\n",
       "    </tr>\n",
       "    <tr>\n",
       "      <th>personal_political_7.0</th>\n",
       "      <td>-0.454806</td>\n",
       "    </tr>\n",
       "    <tr>\n",
       "      <th>relation_0.0</th>\n",
       "      <td>-0.491548</td>\n",
       "    </tr>\n",
       "    <tr>\n",
       "      <th>personal_political_9.0</th>\n",
       "      <td>-0.503182</td>\n",
       "    </tr>\n",
       "    <tr>\n",
       "      <th>personal_smoking_5.0</th>\n",
       "      <td>-0.680117</td>\n",
       "    </tr>\n",
       "    <tr>\n",
       "      <th>personal_political_2.0</th>\n",
       "      <td>-0.736581</td>\n",
       "    </tr>\n",
       "    <tr>\n",
       "      <th>personal_alcohol_5.0</th>\n",
       "      <td>-0.737207</td>\n",
       "    </tr>\n",
       "    <tr>\n",
       "      <th>personal_political_6.0</th>\n",
       "      <td>-0.782309</td>\n",
       "    </tr>\n",
       "    <tr>\n",
       "      <th>personal_political_1.0</th>\n",
       "      <td>-0.881858</td>\n",
       "    </tr>\n",
       "  </tbody>\n",
       "</table>\n",
       "</div>"
      ],
      "text/plain": [
       "                                coef\n",
       "personal_life_main_7.0      0.574667\n",
       "personal_life_main_1.0      0.397370\n",
       "personal_people_main_6.0    0.387097\n",
       "personal_life_main_6.0      0.307671\n",
       "personal_people_main_1.0    0.274404\n",
       "personal_religion_id_102.0  0.209412\n",
       "personal_smoking_0.0        0.204698\n",
       "personal_people_main_4.0    0.203277\n",
       "relation_3.0                0.183694\n",
       "personal_religion_id_101.0  0.158592\n",
       "personal_people_main_2.0    0.125441\n",
       "personal_life_main_0.0      0.120183\n",
       "relation_4.0                0.110892\n",
       "personal_people_main_5.0    0.052586\n",
       "relation_2.0               -0.013865\n",
       "personal_alcohol_0.0       -0.015444\n",
       "personal_political_3.0     -0.019459\n",
       "personal_religion_id_139.0 -0.043804\n",
       "personal_political_8.0     -0.058783\n",
       "personal_religion_id_200.0 -0.081659\n",
       "personal_people_main_0.0   -0.082328\n",
       "personal_people_main_3.0   -0.083525\n",
       "personal_political_4.0     -0.090147\n",
       "personal_life_main_2.0     -0.109874\n",
       "personal_alcohol_2.0       -0.114580\n",
       "personal_religion_id_129.0 -0.116416\n",
       "relation_5.0               -0.142315\n",
       "personal_religion_id_167.0 -0.142367\n",
       "relation_7.0               -0.168229\n",
       "personal_alcohol_1.0       -0.182498\n",
       "personal_smoking_2.0       -0.182910\n",
       "personal_life_main_5.0     -0.202962\n",
       "personal_religion_id_201.0 -0.211811\n",
       "personal_religion_id_107.0 -0.236497\n",
       "personal_political_5.0     -0.236742\n",
       "personal_life_main_3.0     -0.238779\n",
       "relation_8.0               -0.253416\n",
       "personal_life_main_4.0     -0.368959\n",
       "relation_1.0               -0.369594\n",
       "personal_religion_id_124.0 -0.376628\n",
       "personal_smoking_4.0       -0.385741\n",
       "personal_smoking_1.0       -0.391944\n",
       "personal_smoking_3.0       -0.395913\n",
       "personal_alcohol_3.0       -0.398499\n",
       "personal_life_main_8.0     -0.404989\n",
       "personal_alcohol_4.0       -0.439025\n",
       "relation_6.0               -0.446764\n",
       "personal_political_7.0     -0.454806\n",
       "relation_0.0               -0.491548\n",
       "personal_political_9.0     -0.503182\n",
       "personal_smoking_5.0       -0.680117\n",
       "personal_political_2.0     -0.736581\n",
       "personal_alcohol_5.0       -0.737207\n",
       "personal_political_6.0     -0.782309\n",
       "personal_political_1.0     -0.881858"
      ]
     },
     "execution_count": 189,
     "metadata": {},
     "output_type": "execute_result"
    }
   ],
   "source": [
    "best_coef(log_reg.coef_[0])"
   ]
  },
  {
   "cell_type": "code",
   "execution_count": 188,
   "metadata": {},
   "outputs": [
    {
     "data": {
      "text/plain": [
       "0.5646333706878275"
      ]
     },
     "execution_count": 188,
     "metadata": {},
     "output_type": "execute_result"
    }
   ],
   "source": [
    "accuracy_score(log_reg.predict(X_test), y_test)"
   ]
  }
 ],
 "metadata": {
  "kernelspec": {
   "display_name": "Python 3",
   "language": "python",
   "name": "python3"
  },
  "language_info": {
   "codemirror_mode": {
    "name": "ipython",
    "version": 3
   },
   "file_extension": ".py",
   "mimetype": "text/x-python",
   "name": "python",
   "nbconvert_exporter": "python",
   "pygments_lexer": "ipython3",
   "version": "3.7.6"
  }
 },
 "nbformat": 4,
 "nbformat_minor": 4
}
