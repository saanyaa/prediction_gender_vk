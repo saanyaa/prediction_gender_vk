{
 "cells": [
  {
   "cell_type": "markdown",
   "metadata": {},
   "source": [
    "## Сбор данных "
   ]
  },
  {
   "cell_type": "markdown",
   "metadata": {},
   "source": [
    "**Импорт библиотек:**"
   ]
  },
  {
   "cell_type": "code",
   "execution_count": 7,
   "metadata": {},
   "outputs": [],
   "source": [
    "import requests\n",
    "import numpy as np\n",
    "import pandas as pd\n",
    "import yaml"
   ]
  },
  {
   "cell_type": "markdown",
   "metadata": {},
   "source": [
    "**Считываем токен для доступа к VK API из `.yaml` файла:**"
   ]
  },
  {
   "cell_type": "code",
   "execution_count": 8,
   "metadata": {},
   "outputs": [],
   "source": [
    "conf = open('config.yaml')\n",
    "\n",
    "config = yaml.load(conf, yaml.SafeLoader)\n",
    "\n",
    "access_token = config['access_token']"
   ]
  },
  {
   "cell_type": "markdown",
   "metadata": {},
   "source": [
    "**Считываем описание признаков пользователей VK из `.yaml` файла для формирования `DataFrame`:**"
   ]
  },
  {
   "cell_type": "code",
   "execution_count": 9,
   "metadata": {},
   "outputs": [],
   "source": [
    "descr = open('description/description_search.yaml', mode = 'r', encoding = 'utf-8')\n",
    "\n",
    "description = yaml.load(descr, yaml.SafeLoader)"
   ]
  },
  {
   "cell_type": "markdown",
   "metadata": {},
   "source": [
    "**Подготовка к API запросу. Используется метод `users.get`:**"
   ]
  },
  {
   "cell_type": "code",
   "execution_count": 10,
   "metadata": {},
   "outputs": [],
   "source": [
    "url = 'https://api.vk.com/method/users.get?'\n",
    "\n",
    "params = {\n",
    "    'v': 5.131,\n",
    "    'access_token': access_token,\n",
    "    'fields': 'relation, personal, universities, sex'\n",
    "}"
   ]
  },
  {
   "cell_type": "markdown",
   "metadata": {},
   "source": [
    "**Функция, которая 'раскрывает' словарь:**"
   ]
  },
  {
   "cell_type": "code",
   "execution_count": 16,
   "metadata": {},
   "outputs": [],
   "source": [
    "def flatten(dictionary, key):\n",
    "        \n",
    "    if not key in dictionary.keys():\n",
    "        return\n",
    "\n",
    "    if type(dictionary[key]) != list:\n",
    "        for subkey in dictionary[key].keys():\n",
    "            dictionary[key + '_' + subkey] = dictionary[key][subkey]\n",
    "        \n",
    "    elif len(dictionary[key]) != 0:\n",
    "        for subkey in dictionary[key][0].keys():\n",
    "            dictionary[key + '_' + subkey] = dictionary[key][0][subkey]\n",
    "            \n",
    "    dictionary.pop(key)    \n",
    "    \n",
    "    return dictionary"
   ]
  },
  {
   "cell_type": "markdown",
   "metadata": {},
   "source": [
    "**Функция, которая удаляет ключ из словаря:**"
   ]
  },
  {
   "cell_type": "code",
   "execution_count": 12,
   "metadata": {},
   "outputs": [],
   "source": [
    "def del_key(dictionary, key):\n",
    "    \n",
    "    if not key in dictionary.keys():\n",
    "        return\n",
    "    \n",
    "    dictionary.pop(key)\n",
    "    \n",
    "    return dictionary"
   ]
  },
  {
   "cell_type": "markdown",
   "metadata": {},
   "source": [
    "**Функция, которая получает сведения о пользователях VK путем API запросов и возвращает `DataFrame` с полученными данными.**\n",
    "\n",
    "**Для быстрого сбора данных используется метод `users.get` с пакетом из 1000 случайных id.**"
   ]
  },
  {
   "cell_type": "code",
   "execution_count": 13,
   "metadata": {},
   "outputs": [],
   "source": [
    "def get_data(count=1000):\n",
    "    \n",
    "    user_str = ''\n",
    "\n",
    "    user_id_list = np.random.randint(1, 60000000, count)\n",
    "\n",
    "    for user_id in user_id_list:\n",
    "        user_str = user_str + str(user_id) + ', '\n",
    "    \n",
    "    df = pd.DataFrame(columns=description.keys())\n",
    "    \n",
    "    params['user_ids'] = user_str\n",
    "        \n",
    "    r = requests.get(url, params = params)\n",
    "    \n",
    "    data_dict = r.json()['response']\n",
    "    \n",
    "    for user_dict in data_dict:\n",
    "        \n",
    "        # Обрабатываем только активных пользователей с непустым полом\n",
    "        if  (user_dict['first_name'] != 'DELETED') and \\\n",
    "            ('deactivated' not in user_dict.keys()) and \\\n",
    "            (user_dict['is_closed'] == False) and \\\n",
    "            (user_dict['sex'] != 0):\n",
    "        \n",
    "            # Раскрываем вложенные словари и удаляем ненужные\n",
    "            flatten(user_dict, 'personal')\n",
    "            flatten(user_dict, 'universities')\n",
    "            del_key(user_dict, 'relation_partner')\n",
    "            \n",
    "            df = df.append(user_dict, ignore_index=True)\n",
    "            \n",
    "    return df"
   ]
  },
  {
   "cell_type": "markdown",
   "metadata": {},
   "source": [
    "**Фунция, которая вызывает в цикле предыдущую функцию `get_data()` до тех пор пока не накопит требуемое количество пользователей. Все полученные пользователи сохраняются в `.csv` файл для дальнейшей обработки:**"
   ]
  },
  {
   "cell_type": "code",
   "execution_count": 14,
   "metadata": {},
   "outputs": [],
   "source": [
    "def get_users_csv(min_count, file_name):\n",
    "    \n",
    "    file_name = file_name + '.csv' \n",
    "    \n",
    "    full_df = pd.DataFrame(columns=description.keys())\n",
    "    \n",
    "    while len(full_df) < min_count:\n",
    "    \n",
    "        df = get_data()\n",
    "    \n",
    "        full_df = pd.concat([full_df, df])\n",
    "        \n",
    "        full_df.to_csv(file_name, index_label = 'id')\n",
    "    \n",
    "    full_df = full_df.drop_duplicates(subset=['id'])\n",
    "    \n",
    "    full_df = full_df.set_index('id')\n",
    "        \n",
    "    return full_df"
   ]
  },
  {
   "cell_type": "markdown",
   "metadata": {},
   "source": [
    "**Для того, чтобы при сбое не запускать сбор данных с самого начала, будем извлекать данные пакетами по 25000 пользователей и сохранить их в папку `data`:**"
   ]
  },
  {
   "cell_type": "code",
   "execution_count": null,
   "metadata": {},
   "outputs": [],
   "source": [
    "%%time\n",
    "\n",
    "file_nums = [1, 2, 3, 4, 5, 6, 7, 8, 9, 10]\n",
    "\n",
    "for num in file_nums:\n",
    "    \n",
    "    get_users_csv(25000, file_name='data/data_'+str(num))"
   ]
  }
 ],
 "metadata": {
  "kernelspec": {
   "display_name": "Python 3",
   "language": "python",
   "name": "python3"
  },
  "language_info": {
   "codemirror_mode": {
    "name": "ipython",
    "version": 3
   },
   "file_extension": ".py",
   "mimetype": "text/x-python",
   "name": "python",
   "nbconvert_exporter": "python",
   "pygments_lexer": "ipython3",
   "version": "3.7.6"
  }
 },
 "nbformat": 4,
 "nbformat_minor": 4
}
