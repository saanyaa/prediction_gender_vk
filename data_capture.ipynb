{
 "cells": [
  {
   "cell_type": "markdown",
   "metadata": {},
   "source": [
    "## Сбор данных "
   ]
  },
  {
   "cell_type": "markdown",
   "metadata": {},
   "source": [
    "**Импорт библиотек:**"
   ]
  },
  {
   "cell_type": "code",
   "execution_count": 2,
   "metadata": {},
   "outputs": [],
   "source": [
    "import requests\n",
    "import numpy as np\n",
    "import pandas as pd\n",
    "import yaml"
   ]
  },
  {
   "cell_type": "markdown",
   "metadata": {},
   "source": [
    "**Считываем токен из `.yaml` файла:**"
   ]
  },
  {
   "cell_type": "code",
   "execution_count": 3,
   "metadata": {},
   "outputs": [],
   "source": [
    "conf = open('config.yaml')\n",
    "\n",
    "config = yaml.load(conf, yaml.SafeLoader)\n",
    "\n",
    "access_token = config['access_token']"
   ]
  },
  {
   "cell_type": "markdown",
   "metadata": {},
   "source": [
    "**Считываем описание признаков из `.yaml` файла:**"
   ]
  },
  {
   "cell_type": "code",
   "execution_count": 4,
   "metadata": {},
   "outputs": [],
   "source": [
    "descr = open('description/description_search.yaml', mode = 'r', encoding = 'utf-8')\n",
    "\n",
    "description = yaml.load(descr, yaml.SafeLoader)"
   ]
  },
  {
   "cell_type": "markdown",
   "metadata": {},
   "source": [
    "**Подготовка к API запросу. Используется метод `users.get`:**"
   ]
  },
  {
   "cell_type": "code",
   "execution_count": 24,
   "metadata": {},
   "outputs": [],
   "source": [
    "url = 'https://api.vk.com/method/users.get?'\n",
    "\n",
    "params = {\n",
    "    'v': 5.131,\n",
    "    'access_token': access_token,\n",
    "    'fields': 'relation, personal, universities, sex'\n",
    "}"
   ]
  },
  {
   "cell_type": "markdown",
   "metadata": {},
   "source": [
    "**Функция, которая 'раскрывает' словарь:**"
   ]
  },
  {
   "cell_type": "code",
   "execution_count": 25,
   "metadata": {},
   "outputs": [],
   "source": [
    "def del_dict(dictionary, del_dict):\n",
    "        \n",
    "    if not del_dict in dictionary.keys():\n",
    "        return\n",
    "\n",
    "    if type(dictionary[del_dict]) != list:\n",
    "        for key in dictionary[del_dict].keys():\n",
    "            dictionary[del_dict + '_' + key] = dictionary[del_dict][key]\n",
    "        \n",
    "    elif len(dictionary[del_dict]) != 0:\n",
    "        for key in dictionary[del_dict][0].keys():\n",
    "            dictionary[del_dict + '_' + key] = dictionary[del_dict][0][key]\n",
    "            \n",
    "    dictionary.pop(del_dict)    \n",
    "    \n",
    "    return dictionary"
   ]
  },
  {
   "cell_type": "markdown",
   "metadata": {},
   "source": [
    "**Функция, которая удаляет словарь из основного словаря:**"
   ]
  },
  {
   "cell_type": "code",
   "execution_count": 26,
   "metadata": {},
   "outputs": [],
   "source": [
    "def del_part(dictionary, del_dict):\n",
    "    \n",
    "    if not del_dict in dictionary.keys():\n",
    "        return\n",
    "    \n",
    "    dictionary.pop(del_dict)\n",
    "    \n",
    "    return dictionary"
   ]
  },
  {
   "cell_type": "markdown",
   "metadata": {},
   "source": [
    "**Функция, которя возрващает `DateFrame` путем API запросов:**"
   ]
  },
  {
   "cell_type": "code",
   "execution_count": 27,
   "metadata": {},
   "outputs": [],
   "source": [
    "def get_data(count=1000):\n",
    "    \n",
    "    user_str = ''\n",
    "\n",
    "    user_id_list = np.random.randint(1, 60000000, count)\n",
    "\n",
    "    for user_id in user_id_list:\n",
    "        user_str = user_str + str(user_id) + ', '\n",
    "    \n",
    "    df = pd.DataFrame(columns=description.keys())\n",
    "    \n",
    "    params['user_ids'] = user_str\n",
    "        \n",
    "    r = requests.get(url, params = params)\n",
    "    \n",
    "    data_dict = r.json()['response']\n",
    "    \n",
    "    for user_dict in data_dict:\n",
    "        \n",
    "        if  (user_dict['first_name'] != 'DELETED') and \\\n",
    "            ('deactivated' not in user_dict.keys()) and \\\n",
    "            (user_dict['is_closed'] == False) and \\\n",
    "            (user_dict['sex'] != 0):\n",
    "        \n",
    "            del_dict(user_dict, 'personal')\n",
    "            del_dict(user_dict, 'universities')\n",
    "            del_part(user_dict, 'relation_partner')\n",
    "            \n",
    "            df = df.append(user_dict, ignore_index=True)\n",
    "            \n",
    "    return df"
   ]
  },
  {
   "cell_type": "markdown",
   "metadata": {},
   "source": [
    "**Фунция, которая получает минимальное кол-во пользователей, которых необходимо случайно выбрать и выдет `.csv` файл, состоящий из этих пользователей:**"
   ]
  },
  {
   "cell_type": "code",
   "execution_count": 28,
   "metadata": {},
   "outputs": [],
   "source": [
    "def get_users_csv(min_count, file_name):\n",
    "    \n",
    "    file_name = file_name + '.csv' \n",
    "    \n",
    "    full_df = pd.DataFrame(columns=description.keys())\n",
    "    \n",
    "    while len(full_df) < min_count:\n",
    "    \n",
    "        df = get_data()\n",
    "    \n",
    "        full_df = pd.concat([full_df, df])\n",
    "        \n",
    "        full_df.to_csv(file_name, index_label = 'id')\n",
    "    \n",
    "    full_df = full_df.drop_duplicates(subset=['id'])\n",
    "    \n",
    "    full_df = full_df.set_index('id')\n",
    "        \n",
    "    return full_df"
   ]
  },
  {
   "cell_type": "markdown",
   "metadata": {},
   "source": [
    "**Заполнение паппки `data` данными, в среднем по 25000 пользователей:**"
   ]
  },
  {
   "cell_type": "code",
   "execution_count": 35,
   "metadata": {},
   "outputs": [
    {
     "name": "stdout",
     "output_type": "stream",
     "text": [
      "Wall time: 23min 14s\n"
     ]
    }
   ],
   "source": [
    "%%time\n",
    "data_list = [5, 6, 7, 8, 9, 10]\n",
    "\n",
    "for count in data_list:\n",
    "    \n",
    "    get_users_csv(25000, file_name='data/data_'+str(count))"
   ]
  }
 ],
 "metadata": {
  "kernelspec": {
   "display_name": "Python 3",
   "language": "python",
   "name": "python3"
  },
  "language_info": {
   "codemirror_mode": {
    "name": "ipython",
    "version": 3
   },
   "file_extension": ".py",
   "mimetype": "text/x-python",
   "name": "python",
   "nbconvert_exporter": "python",
   "pygments_lexer": "ipython3",
   "version": "3.7.6"
  }
 },
 "nbformat": 4,
 "nbformat_minor": 4
}
